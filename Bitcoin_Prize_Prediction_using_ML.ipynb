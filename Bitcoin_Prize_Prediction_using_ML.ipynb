{
 "cells": [
  {
   "cell_type": "markdown",
   "metadata": {},
   "source": [
    "<h1>Import The required libraries</h1>"
   ]
  },
  {
   "cell_type": "code",
   "execution_count": 27,
   "metadata": {},
   "outputs": [],
   "source": [
    "import numpy as np\n",
    "import pandas as pd\n",
    "import matplotlib.pyplot as plt\n",
    "import seaborn as sns\n",
    "%matplotlib inline\n",
    "import os\n",
    "from sklearn import preprocessing\n",
    "from sklearn.model_selection import train_test_split\n",
    "from sklearn.ensemble import RandomForestRegressor\n",
    "from sklearn import tree"
   ]
  },
  {
   "cell_type": "markdown",
   "metadata": {},
   "source": [
    "<h2>Changing directory to our specified location</h2>"
   ]
  },
  {
   "cell_type": "code",
   "execution_count": 2,
   "metadata": {},
   "outputs": [],
   "source": [
    "os.chdir(\"E:\\courses\\IBM ML Internship\\Datasets\\Bitcoin prize prediction\")"
   ]
  },
  {
   "cell_type": "markdown",
   "metadata": {},
   "source": [
    "<h2>Reading Datasets from our directory</h2>"
   ]
  },
  {
   "cell_type": "code",
   "execution_count": 3,
   "metadata": {},
   "outputs": [],
   "source": [
    "Df1=pd.read_csv(\"bitstampUSD_1-min_data_2012-01-01_to_2019-08-12.csv\")\n",
    "Df2=pd.read_csv(\"coinbaseUSD_1-min_data_2014-12-01_to_2019-01-09.csv\")"
   ]
  },
  {
   "cell_type": "markdown",
   "metadata": {},
   "source": [
    "<h2>Checking shapes of datasets</h2>"
   ]
  },
  {
   "cell_type": "code",
   "execution_count": 4,
   "metadata": {},
   "outputs": [
    {
     "name": "stdout",
     "output_type": "stream",
     "text": [
      "DataFrame 1 -   (3997697, 8)\n",
      "--------------------------------------------\n",
      "DataFrame 2 -   (2099760, 8)\n"
     ]
    }
   ],
   "source": [
    "print(\"DataFrame 1 -  \",Df1.shape)\n",
    "print(\"--------------------------------------------\")\n",
    "print(\"DataFrame 2 -  \",Df2.shape)"
   ]
  },
  {
   "cell_type": "markdown",
   "metadata": {},
   "source": [
    "<h2>Checking info of datasets</h2>"
   ]
  },
  {
   "cell_type": "code",
   "execution_count": 5,
   "metadata": {},
   "outputs": [
    {
     "name": "stdout",
     "output_type": "stream",
     "text": [
      "<class 'pandas.core.frame.DataFrame'>\n",
      "RangeIndex: 3997697 entries, 0 to 3997696\n",
      "Data columns (total 8 columns):\n",
      "Timestamp            int64\n",
      "Open                 float64\n",
      "High                 float64\n",
      "Low                  float64\n",
      "Close                float64\n",
      "Volume_(BTC)         float64\n",
      "Volume_(Currency)    float64\n",
      "Weighted_Price       float64\n",
      "dtypes: float64(7), int64(1)\n",
      "memory usage: 244.0 MB\n",
      "--------------------------------------------\n",
      "<class 'pandas.core.frame.DataFrame'>\n",
      "RangeIndex: 2099760 entries, 0 to 2099759\n",
      "Data columns (total 8 columns):\n",
      "Timestamp            int64\n",
      "Open                 float64\n",
      "High                 float64\n",
      "Low                  float64\n",
      "Close                float64\n",
      "Volume_(BTC)         float64\n",
      "Volume_(Currency)    float64\n",
      "Weighted_Price       float64\n",
      "dtypes: float64(7), int64(1)\n",
      "memory usage: 128.2 MB\n"
     ]
    }
   ],
   "source": [
    "Df1.info()\n",
    "print(\"--------------------------------------------\")\n",
    "Df2.info()"
   ]
  },
  {
   "cell_type": "markdown",
   "metadata": {},
   "source": [
    "# Data cleaning"
   ]
  },
  {
   "cell_type": "markdown",
   "metadata": {},
   "source": [
    "<h3>Removing Timestamp column as it is of no use for our work</h3>"
   ]
  },
  {
   "cell_type": "code",
   "execution_count": 6,
   "metadata": {},
   "outputs": [],
   "source": [
    "Df1=Df1.drop('Timestamp',axis=1)"
   ]
  },
  {
   "cell_type": "code",
   "execution_count": 7,
   "metadata": {},
   "outputs": [],
   "source": [
    "Df2=Df2.drop('Timestamp',axis=1)"
   ]
  },
  {
   "cell_type": "code",
   "execution_count": null,
   "metadata": {},
   "outputs": [],
   "source": []
  },
  {
   "cell_type": "code",
   "execution_count": 8,
   "metadata": {},
   "outputs": [
    {
     "data": {
      "text/html": [
       "<div>\n",
       "<style scoped>\n",
       "    .dataframe tbody tr th:only-of-type {\n",
       "        vertical-align: middle;\n",
       "    }\n",
       "\n",
       "    .dataframe tbody tr th {\n",
       "        vertical-align: top;\n",
       "    }\n",
       "\n",
       "    .dataframe thead th {\n",
       "        text-align: right;\n",
       "    }\n",
       "</style>\n",
       "<table border=\"1\" class=\"dataframe\">\n",
       "  <thead>\n",
       "    <tr style=\"text-align: right;\">\n",
       "      <th></th>\n",
       "      <th>Open</th>\n",
       "      <th>High</th>\n",
       "      <th>Low</th>\n",
       "      <th>Close</th>\n",
       "      <th>Volume_(BTC)</th>\n",
       "      <th>Volume_(Currency)</th>\n",
       "      <th>Weighted_Price</th>\n",
       "    </tr>\n",
       "  </thead>\n",
       "  <tbody>\n",
       "    <tr>\n",
       "      <th>0</th>\n",
       "      <td>4.39</td>\n",
       "      <td>4.39</td>\n",
       "      <td>4.39</td>\n",
       "      <td>4.39</td>\n",
       "      <td>0.455581</td>\n",
       "      <td>2.0</td>\n",
       "      <td>4.39</td>\n",
       "    </tr>\n",
       "    <tr>\n",
       "      <th>1</th>\n",
       "      <td>NaN</td>\n",
       "      <td>NaN</td>\n",
       "      <td>NaN</td>\n",
       "      <td>NaN</td>\n",
       "      <td>NaN</td>\n",
       "      <td>NaN</td>\n",
       "      <td>NaN</td>\n",
       "    </tr>\n",
       "    <tr>\n",
       "      <th>2</th>\n",
       "      <td>NaN</td>\n",
       "      <td>NaN</td>\n",
       "      <td>NaN</td>\n",
       "      <td>NaN</td>\n",
       "      <td>NaN</td>\n",
       "      <td>NaN</td>\n",
       "      <td>NaN</td>\n",
       "    </tr>\n",
       "    <tr>\n",
       "      <th>3</th>\n",
       "      <td>NaN</td>\n",
       "      <td>NaN</td>\n",
       "      <td>NaN</td>\n",
       "      <td>NaN</td>\n",
       "      <td>NaN</td>\n",
       "      <td>NaN</td>\n",
       "      <td>NaN</td>\n",
       "    </tr>\n",
       "    <tr>\n",
       "      <th>4</th>\n",
       "      <td>NaN</td>\n",
       "      <td>NaN</td>\n",
       "      <td>NaN</td>\n",
       "      <td>NaN</td>\n",
       "      <td>NaN</td>\n",
       "      <td>NaN</td>\n",
       "      <td>NaN</td>\n",
       "    </tr>\n",
       "  </tbody>\n",
       "</table>\n",
       "</div>"
      ],
      "text/plain": [
       "   Open  High   Low  Close  Volume_(BTC)  Volume_(Currency)  Weighted_Price\n",
       "0  4.39  4.39  4.39   4.39      0.455581                2.0            4.39\n",
       "1   NaN   NaN   NaN    NaN           NaN                NaN             NaN\n",
       "2   NaN   NaN   NaN    NaN           NaN                NaN             NaN\n",
       "3   NaN   NaN   NaN    NaN           NaN                NaN             NaN\n",
       "4   NaN   NaN   NaN    NaN           NaN                NaN             NaN"
      ]
     },
     "execution_count": 8,
     "metadata": {},
     "output_type": "execute_result"
    }
   ],
   "source": [
    "Df1.head()"
   ]
  },
  {
   "cell_type": "code",
   "execution_count": 9,
   "metadata": {},
   "outputs": [
    {
     "data": {
      "text/html": [
       "<div>\n",
       "<style scoped>\n",
       "    .dataframe tbody tr th:only-of-type {\n",
       "        vertical-align: middle;\n",
       "    }\n",
       "\n",
       "    .dataframe tbody tr th {\n",
       "        vertical-align: top;\n",
       "    }\n",
       "\n",
       "    .dataframe thead th {\n",
       "        text-align: right;\n",
       "    }\n",
       "</style>\n",
       "<table border=\"1\" class=\"dataframe\">\n",
       "  <thead>\n",
       "    <tr style=\"text-align: right;\">\n",
       "      <th></th>\n",
       "      <th>Open</th>\n",
       "      <th>High</th>\n",
       "      <th>Low</th>\n",
       "      <th>Close</th>\n",
       "      <th>Volume_(BTC)</th>\n",
       "      <th>Volume_(Currency)</th>\n",
       "      <th>Weighted_Price</th>\n",
       "    </tr>\n",
       "  </thead>\n",
       "  <tbody>\n",
       "    <tr>\n",
       "      <th>0</th>\n",
       "      <td>300.0</td>\n",
       "      <td>300.0</td>\n",
       "      <td>300.0</td>\n",
       "      <td>300.0</td>\n",
       "      <td>0.01</td>\n",
       "      <td>3.0</td>\n",
       "      <td>300.0</td>\n",
       "    </tr>\n",
       "    <tr>\n",
       "      <th>1</th>\n",
       "      <td>NaN</td>\n",
       "      <td>NaN</td>\n",
       "      <td>NaN</td>\n",
       "      <td>NaN</td>\n",
       "      <td>NaN</td>\n",
       "      <td>NaN</td>\n",
       "      <td>NaN</td>\n",
       "    </tr>\n",
       "    <tr>\n",
       "      <th>2</th>\n",
       "      <td>NaN</td>\n",
       "      <td>NaN</td>\n",
       "      <td>NaN</td>\n",
       "      <td>NaN</td>\n",
       "      <td>NaN</td>\n",
       "      <td>NaN</td>\n",
       "      <td>NaN</td>\n",
       "    </tr>\n",
       "    <tr>\n",
       "      <th>3</th>\n",
       "      <td>NaN</td>\n",
       "      <td>NaN</td>\n",
       "      <td>NaN</td>\n",
       "      <td>NaN</td>\n",
       "      <td>NaN</td>\n",
       "      <td>NaN</td>\n",
       "      <td>NaN</td>\n",
       "    </tr>\n",
       "    <tr>\n",
       "      <th>4</th>\n",
       "      <td>NaN</td>\n",
       "      <td>NaN</td>\n",
       "      <td>NaN</td>\n",
       "      <td>NaN</td>\n",
       "      <td>NaN</td>\n",
       "      <td>NaN</td>\n",
       "      <td>NaN</td>\n",
       "    </tr>\n",
       "  </tbody>\n",
       "</table>\n",
       "</div>"
      ],
      "text/plain": [
       "    Open   High    Low  Close  Volume_(BTC)  Volume_(Currency)  Weighted_Price\n",
       "0  300.0  300.0  300.0  300.0          0.01                3.0           300.0\n",
       "1    NaN    NaN    NaN    NaN           NaN                NaN             NaN\n",
       "2    NaN    NaN    NaN    NaN           NaN                NaN             NaN\n",
       "3    NaN    NaN    NaN    NaN           NaN                NaN             NaN\n",
       "4    NaN    NaN    NaN    NaN           NaN                NaN             NaN"
      ]
     },
     "execution_count": 9,
     "metadata": {},
     "output_type": "execute_result"
    }
   ],
   "source": [
    "Df2.head()"
   ]
  },
  {
   "cell_type": "markdown",
   "metadata": {},
   "source": [
    "# Checking for Null Values using Heatmap"
   ]
  },
  {
   "cell_type": "code",
   "execution_count": 73,
   "metadata": {},
   "outputs": [
    {
     "data": {
      "text/plain": [
       "<matplotlib.axes._subplots.AxesSubplot at 0x287c0de0dd8>"
      ]
     },
     "execution_count": 73,
     "metadata": {},
     "output_type": "execute_result"
    },
    {
     "data": {
      "image/png": "[encoded data removed]",
      "text/plain": [
       "<Figure size 432x288 with 2 Axes>"
      ]
     },
     "metadata": {},
     "output_type": "display_data"
    }
   ],
   "source": [
    "sns.heatmap(Df1.isnull(),cmap='viridis')"
   ]
  },
  {
   "cell_type": "code",
   "execution_count": 74,
   "metadata": {},
   "outputs": [
    {
     "data": {
      "text/plain": [
       "<matplotlib.axes._subplots.AxesSubplot at 0x287c17780f0>"
      ]
     },
     "execution_count": 74,
     "metadata": {},
     "output_type": "execute_result"
    },
    {
     "data": {
      "image/png": "[encoded data removed]",
      "text/plain": [
       "<Figure size 432x288 with 2 Axes>"
      ]
     },
     "metadata": {},
     "output_type": "display_data"
    }
   ],
   "source": [
    "sns.heatmap(Df2.isnull(),cmap='viridis')"
   ]
  },
  {
   "cell_type": "code",
   "execution_count": 10,
   "metadata": {},
   "outputs": [
    {
     "data": {
      "text/html": [
       "<div>\n",
       "<style scoped>\n",
       "    .dataframe tbody tr th:only-of-type {\n",
       "        vertical-align: middle;\n",
       "    }\n",
       "\n",
       "    .dataframe tbody tr th {\n",
       "        vertical-align: top;\n",
       "    }\n",
       "\n",
       "    .dataframe thead th {\n",
       "        text-align: right;\n",
       "    }\n",
       "</style>\n",
       "<table border=\"1\" class=\"dataframe\">\n",
       "  <thead>\n",
       "    <tr style=\"text-align: right;\">\n",
       "      <th></th>\n",
       "      <th>Open</th>\n",
       "      <th>High</th>\n",
       "      <th>Low</th>\n",
       "      <th>Close</th>\n",
       "      <th>Volume_(BTC)</th>\n",
       "      <th>Volume_(Currency)</th>\n",
       "      <th>Weighted_Price</th>\n",
       "    </tr>\n",
       "  </thead>\n",
       "  <tbody>\n",
       "    <tr>\n",
       "      <th>0</th>\n",
       "      <td>False</td>\n",
       "      <td>False</td>\n",
       "      <td>False</td>\n",
       "      <td>False</td>\n",
       "      <td>False</td>\n",
       "      <td>False</td>\n",
       "      <td>False</td>\n",
       "    </tr>\n",
       "    <tr>\n",
       "      <th>1</th>\n",
       "      <td>True</td>\n",
       "      <td>True</td>\n",
       "      <td>True</td>\n",
       "      <td>True</td>\n",
       "      <td>True</td>\n",
       "      <td>True</td>\n",
       "      <td>True</td>\n",
       "    </tr>\n",
       "    <tr>\n",
       "      <th>2</th>\n",
       "      <td>True</td>\n",
       "      <td>True</td>\n",
       "      <td>True</td>\n",
       "      <td>True</td>\n",
       "      <td>True</td>\n",
       "      <td>True</td>\n",
       "      <td>True</td>\n",
       "    </tr>\n",
       "    <tr>\n",
       "      <th>3</th>\n",
       "      <td>True</td>\n",
       "      <td>True</td>\n",
       "      <td>True</td>\n",
       "      <td>True</td>\n",
       "      <td>True</td>\n",
       "      <td>True</td>\n",
       "      <td>True</td>\n",
       "    </tr>\n",
       "    <tr>\n",
       "      <th>4</th>\n",
       "      <td>True</td>\n",
       "      <td>True</td>\n",
       "      <td>True</td>\n",
       "      <td>True</td>\n",
       "      <td>True</td>\n",
       "      <td>True</td>\n",
       "      <td>True</td>\n",
       "    </tr>\n",
       "    <tr>\n",
       "      <th>5</th>\n",
       "      <td>True</td>\n",
       "      <td>True</td>\n",
       "      <td>True</td>\n",
       "      <td>True</td>\n",
       "      <td>True</td>\n",
       "      <td>True</td>\n",
       "      <td>True</td>\n",
       "    </tr>\n",
       "    <tr>\n",
       "      <th>6</th>\n",
       "      <td>True</td>\n",
       "      <td>True</td>\n",
       "      <td>True</td>\n",
       "      <td>True</td>\n",
       "      <td>True</td>\n",
       "      <td>True</td>\n",
       "      <td>True</td>\n",
       "    </tr>\n",
       "    <tr>\n",
       "      <th>7</th>\n",
       "      <td>True</td>\n",
       "      <td>True</td>\n",
       "      <td>True</td>\n",
       "      <td>True</td>\n",
       "      <td>True</td>\n",
       "      <td>True</td>\n",
       "      <td>True</td>\n",
       "    </tr>\n",
       "    <tr>\n",
       "      <th>8</th>\n",
       "      <td>True</td>\n",
       "      <td>True</td>\n",
       "      <td>True</td>\n",
       "      <td>True</td>\n",
       "      <td>True</td>\n",
       "      <td>True</td>\n",
       "      <td>True</td>\n",
       "    </tr>\n",
       "    <tr>\n",
       "      <th>9</th>\n",
       "      <td>True</td>\n",
       "      <td>True</td>\n",
       "      <td>True</td>\n",
       "      <td>True</td>\n",
       "      <td>True</td>\n",
       "      <td>True</td>\n",
       "      <td>True</td>\n",
       "    </tr>\n",
       "  </tbody>\n",
       "</table>\n",
       "</div>"
      ],
      "text/plain": [
       "    Open   High    Low  Close  Volume_(BTC)  Volume_(Currency)  Weighted_Price\n",
       "0  False  False  False  False         False              False           False\n",
       "1   True   True   True   True          True               True            True\n",
       "2   True   True   True   True          True               True            True\n",
       "3   True   True   True   True          True               True            True\n",
       "4   True   True   True   True          True               True            True\n",
       "5   True   True   True   True          True               True            True\n",
       "6   True   True   True   True          True               True            True\n",
       "7   True   True   True   True          True               True            True\n",
       "8   True   True   True   True          True               True            True\n",
       "9   True   True   True   True          True               True            True"
      ]
     },
     "execution_count": 10,
     "metadata": {},
     "output_type": "execute_result"
    }
   ],
   "source": [
    "Df1.isnull().head(10)"
   ]
  },
  {
   "cell_type": "code",
   "execution_count": 11,
   "metadata": {},
   "outputs": [
    {
     "data": {
      "text/html": [
       "<div>\n",
       "<style scoped>\n",
       "    .dataframe tbody tr th:only-of-type {\n",
       "        vertical-align: middle;\n",
       "    }\n",
       "\n",
       "    .dataframe tbody tr th {\n",
       "        vertical-align: top;\n",
       "    }\n",
       "\n",
       "    .dataframe thead th {\n",
       "        text-align: right;\n",
       "    }\n",
       "</style>\n",
       "<table border=\"1\" class=\"dataframe\">\n",
       "  <thead>\n",
       "    <tr style=\"text-align: right;\">\n",
       "      <th></th>\n",
       "      <th>Open</th>\n",
       "      <th>High</th>\n",
       "      <th>Low</th>\n",
       "      <th>Close</th>\n",
       "      <th>Volume_(BTC)</th>\n",
       "      <th>Volume_(Currency)</th>\n",
       "      <th>Weighted_Price</th>\n",
       "    </tr>\n",
       "  </thead>\n",
       "  <tbody>\n",
       "    <tr>\n",
       "      <th>0</th>\n",
       "      <td>False</td>\n",
       "      <td>False</td>\n",
       "      <td>False</td>\n",
       "      <td>False</td>\n",
       "      <td>False</td>\n",
       "      <td>False</td>\n",
       "      <td>False</td>\n",
       "    </tr>\n",
       "    <tr>\n",
       "      <th>1</th>\n",
       "      <td>True</td>\n",
       "      <td>True</td>\n",
       "      <td>True</td>\n",
       "      <td>True</td>\n",
       "      <td>True</td>\n",
       "      <td>True</td>\n",
       "      <td>True</td>\n",
       "    </tr>\n",
       "    <tr>\n",
       "      <th>2</th>\n",
       "      <td>True</td>\n",
       "      <td>True</td>\n",
       "      <td>True</td>\n",
       "      <td>True</td>\n",
       "      <td>True</td>\n",
       "      <td>True</td>\n",
       "      <td>True</td>\n",
       "    </tr>\n",
       "    <tr>\n",
       "      <th>3</th>\n",
       "      <td>True</td>\n",
       "      <td>True</td>\n",
       "      <td>True</td>\n",
       "      <td>True</td>\n",
       "      <td>True</td>\n",
       "      <td>True</td>\n",
       "      <td>True</td>\n",
       "    </tr>\n",
       "    <tr>\n",
       "      <th>4</th>\n",
       "      <td>True</td>\n",
       "      <td>True</td>\n",
       "      <td>True</td>\n",
       "      <td>True</td>\n",
       "      <td>True</td>\n",
       "      <td>True</td>\n",
       "      <td>True</td>\n",
       "    </tr>\n",
       "    <tr>\n",
       "      <th>5</th>\n",
       "      <td>True</td>\n",
       "      <td>True</td>\n",
       "      <td>True</td>\n",
       "      <td>True</td>\n",
       "      <td>True</td>\n",
       "      <td>True</td>\n",
       "      <td>True</td>\n",
       "    </tr>\n",
       "    <tr>\n",
       "      <th>6</th>\n",
       "      <td>True</td>\n",
       "      <td>True</td>\n",
       "      <td>True</td>\n",
       "      <td>True</td>\n",
       "      <td>True</td>\n",
       "      <td>True</td>\n",
       "      <td>True</td>\n",
       "    </tr>\n",
       "    <tr>\n",
       "      <th>7</th>\n",
       "      <td>False</td>\n",
       "      <td>False</td>\n",
       "      <td>False</td>\n",
       "      <td>False</td>\n",
       "      <td>False</td>\n",
       "      <td>False</td>\n",
       "      <td>False</td>\n",
       "    </tr>\n",
       "    <tr>\n",
       "      <th>8</th>\n",
       "      <td>True</td>\n",
       "      <td>True</td>\n",
       "      <td>True</td>\n",
       "      <td>True</td>\n",
       "      <td>True</td>\n",
       "      <td>True</td>\n",
       "      <td>True</td>\n",
       "    </tr>\n",
       "    <tr>\n",
       "      <th>9</th>\n",
       "      <td>True</td>\n",
       "      <td>True</td>\n",
       "      <td>True</td>\n",
       "      <td>True</td>\n",
       "      <td>True</td>\n",
       "      <td>True</td>\n",
       "      <td>True</td>\n",
       "    </tr>\n",
       "  </tbody>\n",
       "</table>\n",
       "</div>"
      ],
      "text/plain": [
       "    Open   High    Low  Close  Volume_(BTC)  Volume_(Currency)  Weighted_Price\n",
       "0  False  False  False  False         False              False           False\n",
       "1   True   True   True   True          True               True            True\n",
       "2   True   True   True   True          True               True            True\n",
       "3   True   True   True   True          True               True            True\n",
       "4   True   True   True   True          True               True            True\n",
       "5   True   True   True   True          True               True            True\n",
       "6   True   True   True   True          True               True            True\n",
       "7  False  False  False  False         False              False           False\n",
       "8   True   True   True   True          True               True            True\n",
       "9   True   True   True   True          True               True            True"
      ]
     },
     "execution_count": 11,
     "metadata": {},
     "output_type": "execute_result"
    }
   ],
   "source": [
    "Df2.isnull().head(10)"
   ]
  },
  {
   "cell_type": "markdown",
   "metadata": {},
   "source": [
    "# <h2>Conclusions from above :-</h2>"
   ]
  },
  {
   "cell_type": "markdown",
   "metadata": {},
   "source": [
    "<h4> From Above heatmap and table, we can see that the both dataset contains null values, hence it is good practice to remove those records as the number of rows is very large, we can consider this records to be deleted.\n",
    "</h4>"
   ]
  },
  {
   "cell_type": "markdown",
   "metadata": {},
   "source": [
    "<h3>Deleting Records which has null values - </h3>"
   ]
  },
  {
   "cell_type": "code",
   "execution_count": 370,
   "metadata": {},
   "outputs": [],
   "source": [
    "newdf1=Df1.dropna(how='all')"
   ]
  },
  {
   "cell_type": "code",
   "execution_count": 372,
   "metadata": {},
   "outputs": [],
   "source": [
    "newdf2=Df2.dropna(how='all')"
   ]
  },
  {
   "cell_type": "code",
   "execution_count": 373,
   "metadata": {},
   "outputs": [
    {
     "data": {
      "text/html": [
       "<div>\n",
       "<style scoped>\n",
       "    .dataframe tbody tr th:only-of-type {\n",
       "        vertical-align: middle;\n",
       "    }\n",
       "\n",
       "    .dataframe tbody tr th {\n",
       "        vertical-align: top;\n",
       "    }\n",
       "\n",
       "    .dataframe thead th {\n",
       "        text-align: right;\n",
       "    }\n",
       "</style>\n",
       "<table border=\"1\" class=\"dataframe\">\n",
       "  <thead>\n",
       "    <tr style=\"text-align: right;\">\n",
       "      <th></th>\n",
       "      <th>Open</th>\n",
       "      <th>High</th>\n",
       "      <th>Low</th>\n",
       "      <th>Close</th>\n",
       "      <th>Volume_(BTC)</th>\n",
       "      <th>Volume_(Currency)</th>\n",
       "      <th>Weighted_Price</th>\n",
       "    </tr>\n",
       "  </thead>\n",
       "  <tbody>\n",
       "    <tr>\n",
       "      <th>0</th>\n",
       "      <td>4.39</td>\n",
       "      <td>4.39</td>\n",
       "      <td>4.39</td>\n",
       "      <td>4.39</td>\n",
       "      <td>0.455581</td>\n",
       "      <td>2.000000</td>\n",
       "      <td>4.390000</td>\n",
       "    </tr>\n",
       "    <tr>\n",
       "      <th>478</th>\n",
       "      <td>4.39</td>\n",
       "      <td>4.39</td>\n",
       "      <td>4.39</td>\n",
       "      <td>4.39</td>\n",
       "      <td>48.000000</td>\n",
       "      <td>210.720000</td>\n",
       "      <td>4.390000</td>\n",
       "    </tr>\n",
       "    <tr>\n",
       "      <th>547</th>\n",
       "      <td>4.50</td>\n",
       "      <td>4.57</td>\n",
       "      <td>4.50</td>\n",
       "      <td>4.57</td>\n",
       "      <td>37.862297</td>\n",
       "      <td>171.380338</td>\n",
       "      <td>4.526411</td>\n",
       "    </tr>\n",
       "    <tr>\n",
       "      <th>548</th>\n",
       "      <td>4.58</td>\n",
       "      <td>4.58</td>\n",
       "      <td>4.58</td>\n",
       "      <td>4.58</td>\n",
       "      <td>9.000000</td>\n",
       "      <td>41.220000</td>\n",
       "      <td>4.580000</td>\n",
       "    </tr>\n",
       "    <tr>\n",
       "      <th>1224</th>\n",
       "      <td>4.58</td>\n",
       "      <td>4.58</td>\n",
       "      <td>4.58</td>\n",
       "      <td>4.58</td>\n",
       "      <td>1.502000</td>\n",
       "      <td>6.879160</td>\n",
       "      <td>4.580000</td>\n",
       "    </tr>\n",
       "    <tr>\n",
       "      <th>1896</th>\n",
       "      <td>4.84</td>\n",
       "      <td>4.84</td>\n",
       "      <td>4.84</td>\n",
       "      <td>4.84</td>\n",
       "      <td>10.000000</td>\n",
       "      <td>48.400000</td>\n",
       "      <td>4.840000</td>\n",
       "    </tr>\n",
       "    <tr>\n",
       "      <th>2333</th>\n",
       "      <td>5.00</td>\n",
       "      <td>5.00</td>\n",
       "      <td>5.00</td>\n",
       "      <td>5.00</td>\n",
       "      <td>10.100000</td>\n",
       "      <td>50.500000</td>\n",
       "      <td>5.000000</td>\n",
       "    </tr>\n",
       "    <tr>\n",
       "      <th>3612</th>\n",
       "      <td>5.00</td>\n",
       "      <td>5.00</td>\n",
       "      <td>5.00</td>\n",
       "      <td>5.00</td>\n",
       "      <td>19.048000</td>\n",
       "      <td>95.240000</td>\n",
       "      <td>5.000000</td>\n",
       "    </tr>\n",
       "    <tr>\n",
       "      <th>4553</th>\n",
       "      <td>5.32</td>\n",
       "      <td>5.32</td>\n",
       "      <td>5.32</td>\n",
       "      <td>5.32</td>\n",
       "      <td>2.419173</td>\n",
       "      <td>12.870000</td>\n",
       "      <td>5.320000</td>\n",
       "    </tr>\n",
       "    <tr>\n",
       "      <th>4710</th>\n",
       "      <td>5.14</td>\n",
       "      <td>5.14</td>\n",
       "      <td>5.14</td>\n",
       "      <td>5.14</td>\n",
       "      <td>0.680000</td>\n",
       "      <td>3.495200</td>\n",
       "      <td>5.140000</td>\n",
       "    </tr>\n",
       "  </tbody>\n",
       "</table>\n",
       "</div>"
      ],
      "text/plain": [
       "      Open  High   Low  Close  Volume_(BTC)  Volume_(Currency)  Weighted_Price\n",
       "0     4.39  4.39  4.39   4.39      0.455581           2.000000        4.390000\n",
       "478   4.39  4.39  4.39   4.39     48.000000         210.720000        4.390000\n",
       "547   4.50  4.57  4.50   4.57     37.862297         171.380338        4.526411\n",
       "548   4.58  4.58  4.58   4.58      9.000000          41.220000        4.580000\n",
       "1224  4.58  4.58  4.58   4.58      1.502000           6.879160        4.580000\n",
       "1896  4.84  4.84  4.84   4.84     10.000000          48.400000        4.840000\n",
       "2333  5.00  5.00  5.00   5.00     10.100000          50.500000        5.000000\n",
       "3612  5.00  5.00  5.00   5.00     19.048000          95.240000        5.000000\n",
       "4553  5.32  5.32  5.32   5.32      2.419173          12.870000        5.320000\n",
       "4710  5.14  5.14  5.14   5.14      0.680000           3.495200        5.140000"
      ]
     },
     "execution_count": 373,
     "metadata": {},
     "output_type": "execute_result"
    }
   ],
   "source": [
    "newdf1.head(10)"
   ]
  },
  {
   "cell_type": "code",
   "execution_count": 374,
   "metadata": {},
   "outputs": [
    {
     "data": {
      "text/html": [
       "<div>\n",
       "<style scoped>\n",
       "    .dataframe tbody tr th:only-of-type {\n",
       "        vertical-align: middle;\n",
       "    }\n",
       "\n",
       "    .dataframe tbody tr th {\n",
       "        vertical-align: top;\n",
       "    }\n",
       "\n",
       "    .dataframe thead th {\n",
       "        text-align: right;\n",
       "    }\n",
       "</style>\n",
       "<table border=\"1\" class=\"dataframe\">\n",
       "  <thead>\n",
       "    <tr style=\"text-align: right;\">\n",
       "      <th></th>\n",
       "      <th>Open</th>\n",
       "      <th>High</th>\n",
       "      <th>Low</th>\n",
       "      <th>Close</th>\n",
       "      <th>Volume_(BTC)</th>\n",
       "      <th>Volume_(Currency)</th>\n",
       "      <th>Weighted_Price</th>\n",
       "    </tr>\n",
       "  </thead>\n",
       "  <tbody>\n",
       "    <tr>\n",
       "      <th>0</th>\n",
       "      <td>300.0</td>\n",
       "      <td>300.0</td>\n",
       "      <td>300.0</td>\n",
       "      <td>300.0</td>\n",
       "      <td>0.010000</td>\n",
       "      <td>3.00000</td>\n",
       "      <td>300.0</td>\n",
       "    </tr>\n",
       "    <tr>\n",
       "      <th>7</th>\n",
       "      <td>300.0</td>\n",
       "      <td>300.0</td>\n",
       "      <td>300.0</td>\n",
       "      <td>300.0</td>\n",
       "      <td>0.010000</td>\n",
       "      <td>3.00000</td>\n",
       "      <td>300.0</td>\n",
       "    </tr>\n",
       "    <tr>\n",
       "      <th>51</th>\n",
       "      <td>370.0</td>\n",
       "      <td>370.0</td>\n",
       "      <td>370.0</td>\n",
       "      <td>370.0</td>\n",
       "      <td>0.010000</td>\n",
       "      <td>3.70000</td>\n",
       "      <td>370.0</td>\n",
       "    </tr>\n",
       "    <tr>\n",
       "      <th>77</th>\n",
       "      <td>370.0</td>\n",
       "      <td>370.0</td>\n",
       "      <td>370.0</td>\n",
       "      <td>370.0</td>\n",
       "      <td>0.026556</td>\n",
       "      <td>9.82555</td>\n",
       "      <td>370.0</td>\n",
       "    </tr>\n",
       "    <tr>\n",
       "      <th>1436</th>\n",
       "      <td>377.0</td>\n",
       "      <td>377.0</td>\n",
       "      <td>377.0</td>\n",
       "      <td>377.0</td>\n",
       "      <td>0.010000</td>\n",
       "      <td>3.77000</td>\n",
       "      <td>377.0</td>\n",
       "    </tr>\n",
       "  </tbody>\n",
       "</table>\n",
       "</div>"
      ],
      "text/plain": [
       "       Open   High    Low  Close  Volume_(BTC)  Volume_(Currency)  \\\n",
       "0     300.0  300.0  300.0  300.0      0.010000            3.00000   \n",
       "7     300.0  300.0  300.0  300.0      0.010000            3.00000   \n",
       "51    370.0  370.0  370.0  370.0      0.010000            3.70000   \n",
       "77    370.0  370.0  370.0  370.0      0.026556            9.82555   \n",
       "1436  377.0  377.0  377.0  377.0      0.010000            3.77000   \n",
       "\n",
       "      Weighted_Price  \n",
       "0              300.0  \n",
       "7              300.0  \n",
       "51             370.0  \n",
       "77             370.0  \n",
       "1436           377.0  "
      ]
     },
     "execution_count": 374,
     "metadata": {},
     "output_type": "execute_result"
    }
   ],
   "source": [
    "newdf2.head()"
   ]
  },
  {
   "cell_type": "markdown",
   "metadata": {},
   "source": [
    "# <h4>Now we will Look how much rows we have lost by dropping null entries.</h4>"
   ]
  },
  {
   "cell_type": "code",
   "execution_count": 375,
   "metadata": {},
   "outputs": [
    {
     "name": "stdout",
     "output_type": "stream",
     "text": [
      "Total Number of Rows Deleted from Dataset 1 are -  1231878\n"
     ]
    }
   ],
   "source": [
    "print(\"Total Number of Rows Deleted from Dataset 1 are - \",Df1.shape[0] - newdf1.shape[0])"
   ]
  },
  {
   "cell_type": "code",
   "execution_count": 376,
   "metadata": {},
   "outputs": [
    {
     "name": "stdout",
     "output_type": "stream",
     "text": [
      "Total Number of Rows Deleted from Dataset 2 are -  109069\n"
     ]
    }
   ],
   "source": [
    "print(\"Total Number of Rows Deleted from Dataset 2 are - \",Df2.shape[0] - newdf2.shape[0])"
   ]
  },
  {
   "cell_type": "code",
   "execution_count": 377,
   "metadata": {},
   "outputs": [
    {
     "data": {
      "text/plain": [
       "Open                 0\n",
       "High                 0\n",
       "Low                  0\n",
       "Close                0\n",
       "Volume_(BTC)         0\n",
       "Volume_(Currency)    0\n",
       "Weighted_Price       0\n",
       "dtype: int64"
      ]
     },
     "execution_count": 377,
     "metadata": {},
     "output_type": "execute_result"
    }
   ],
   "source": [
    "newdf1.isnull().sum()"
   ]
  },
  {
   "cell_type": "code",
   "execution_count": 378,
   "metadata": {},
   "outputs": [
    {
     "data": {
      "text/plain": [
       "Open                 0\n",
       "High                 0\n",
       "Low                  0\n",
       "Close                0\n",
       "Volume_(BTC)         0\n",
       "Volume_(Currency)    0\n",
       "Weighted_Price       0\n",
       "dtype: int64"
      ]
     },
     "execution_count": 378,
     "metadata": {},
     "output_type": "execute_result"
    }
   ],
   "source": [
    "newdf2.isnull().sum()"
   ]
  },
  {
   "cell_type": "code",
   "execution_count": 20,
   "metadata": {},
   "outputs": [
    {
     "data": {
      "text/plain": [
       "<matplotlib.axes._subplots.AxesSubplot at 0x20435c24208>"
      ]
     },
     "execution_count": 20,
     "metadata": {},
     "output_type": "execute_result"
    },
    {
     "data": {
      "image/png": "[encoded data removed]",
      "text/plain": [
       "<Figure size 432x288 with 2 Axes>"
      ]
     },
     "metadata": {
      "needs_background": "light"
     },
     "output_type": "display_data"
    }
   ],
   "source": [
    "sns.heatmap(newdf1.isnull(),cmap='viridis')"
   ]
  },
  {
   "cell_type": "code",
   "execution_count": 21,
   "metadata": {},
   "outputs": [
    {
     "data": {
      "text/plain": [
       "<matplotlib.axes._subplots.AxesSubplot at 0x20435d72898>"
      ]
     },
     "execution_count": 21,
     "metadata": {},
     "output_type": "execute_result"
    },
    {
     "data": {
      "image/png": "[encoded data removed]",
      "text/plain": [
       "<Figure size 432x288 with 2 Axes>"
      ]
     },
     "metadata": {
      "needs_background": "light"
     },
     "output_type": "display_data"
    }
   ],
   "source": [
    "sns.heatmap(newdf2.isnull(),cmap='viridis')"
   ]
  },
  {
   "cell_type": "markdown",
   "metadata": {},
   "source": [
    "# <h2>Conclusion :</h2>   <h4> After Deleting the null values we can see that there are no null records exists in our new datasets namely newdf1 and newdf2. we can continue with visualizations from now.</h4>"
   ]
  },
  {
   "cell_type": "markdown",
   "metadata": {},
   "source": [
    "# Visualizing Dataset"
   ]
  },
  {
   "cell_type": "code",
   "execution_count": 22,
   "metadata": {},
   "outputs": [
    {
     "data": {
      "text/plain": [
       "<matplotlib.axes._subplots.AxesSubplot at 0x20435e45c88>"
      ]
     },
     "execution_count": 22,
     "metadata": {},
     "output_type": "execute_result"
    },
    {
     "data": {
      "image/png": "[encoded data removed]",
      "text/plain": [
       "<Figure size 432x288 with 1 Axes>"
      ]
     },
     "metadata": {
      "needs_background": "light"
     },
     "output_type": "display_data"
    }
   ],
   "source": [
    "sns.distplot(newdf1['Close'],kde=False,bins=100)"
   ]
  },
  {
   "cell_type": "code",
   "execution_count": 23,
   "metadata": {},
   "outputs": [
    {
     "data": {
      "text/plain": [
       "<matplotlib.axes._subplots.AxesSubplot at 0x20435f55cf8>"
      ]
     },
     "execution_count": 23,
     "metadata": {},
     "output_type": "execute_result"
    },
    {
     "data": {
      "image/png": "[encoded data removed]",
      "text/plain": [
       "<Figure size 432x288 with 1 Axes>"
      ]
     },
     "metadata": {
      "needs_background": "light"
     },
     "output_type": "display_data"
    }
   ],
   "source": [
    "sns.distplot(newdf2['Close'],kde=False,bins=100)"
   ]
  },
  {
   "cell_type": "code",
   "execution_count": 24,
   "metadata": {},
   "outputs": [
    {
     "data": {
      "text/plain": [
       "<matplotlib.axes._subplots.AxesSubplot at 0x20435fc8198>"
      ]
     },
     "execution_count": 24,
     "metadata": {},
     "output_type": "execute_result"
    },
    {
     "data": {
      "image/png": "[encoded data removed]",
      "text/plain": [
       "<Figure size 432x288 with 1 Axes>"
      ]
     },
     "metadata": {
      "needs_background": "light"
     },
     "output_type": "display_data"
    }
   ],
   "source": [
    "sns.boxplot(newdf1['Close'],orient='h')"
   ]
  },
  {
   "cell_type": "code",
   "execution_count": 25,
   "metadata": {},
   "outputs": [
    {
     "data": {
      "text/plain": [
       "<matplotlib.axes._subplots.AxesSubplot at 0x204361ade48>"
      ]
     },
     "execution_count": 25,
     "metadata": {},
     "output_type": "execute_result"
    },
    {
     "data": {
      "image/png": "[encoded data removed]",
      "text/plain": [
       "<Figure size 432x288 with 1 Axes>"
      ]
     },
     "metadata": {
      "needs_background": "light"
     },
     "output_type": "display_data"
    }
   ],
   "source": [
    "sns.boxplot(newdf2['Close'],orient='h')"
   ]
  },
  {
   "cell_type": "markdown",
   "metadata": {},
   "source": [
    "<h3>Plotting the rolling 30 day average against the Close Price</h3>"
   ]
  },
  {
   "cell_type": "code",
   "execution_count": 26,
   "metadata": {},
   "outputs": [
    {
     "data": {
      "text/plain": [
       "<matplotlib.legend.Legend at 0x2043621e2e8>"
      ]
     },
     "execution_count": 26,
     "metadata": {},
     "output_type": "execute_result"
    },
    {
     "name": "stderr",
     "output_type": "stream",
     "text": [
      "C:\\Users\\Nilkanth kulkarni\\Anaconda3\\lib\\site-packages\\IPython\\core\\events.py:88: UserWarning: Creating legend with loc=\"best\" can be slow with large amounts of data.\n",
      "  func(*args, **kwargs)\n",
      "C:\\Users\\Nilkanth kulkarni\\Anaconda3\\lib\\site-packages\\IPython\\core\\pylabtools.py:128: UserWarning: Creating legend with loc=\"best\" can be slow with large amounts of data.\n",
      "  fig.canvas.print_figure(bytes_io, **kw)\n"
     ]
    },
    {
     "data": {
      "image/png": "[encoded data removed]",
      "text/plain": [
       "<Figure size 864x432 with 1 Axes>"
      ]
     },
     "metadata": {},
     "output_type": "display_data"
    }
   ],
   "source": [
    "sns.set()\n",
    "sns.set_style('whitegrid')\n",
    "newdf1['Close'].plot(figsize=(12,6),label='Close')\n",
    "newdf1['Close'].rolling(window=30).mean().plot(label='30 Day Avg')# Plotting the \n",
    "#rolling 30 day average against the Close Price\n",
    "plt.legend()"
   ]
  },
  {
   "cell_type": "code",
   "execution_count": 28,
   "metadata": {},
   "outputs": [
    {
     "data": {
      "text/plain": [
       "<matplotlib.legend.Legend at 0x204362e5d68>"
      ]
     },
     "execution_count": 28,
     "metadata": {},
     "output_type": "execute_result"
    },
    {
     "name": "stderr",
     "output_type": "stream",
     "text": [
      "C:\\Users\\Nilkanth kulkarni\\Anaconda3\\lib\\site-packages\\IPython\\core\\events.py:88: UserWarning: Creating legend with loc=\"best\" can be slow with large amounts of data.\n",
      "  func(*args, **kwargs)\n",
      "C:\\Users\\Nilkanth kulkarni\\Anaconda3\\lib\\site-packages\\IPython\\core\\pylabtools.py:128: UserWarning: Creating legend with loc=\"best\" can be slow with large amounts of data.\n",
      "  fig.canvas.print_figure(bytes_io, **kw)\n"
     ]
    },
    {
     "data": {
      "image/png": "[encoded data removed]",
      "text/plain": [
       "<Figure size 864x432 with 1 Axes>"
      ]
     },
     "metadata": {},
     "output_type": "display_data"
    }
   ],
   "source": [
    "sns.set()\n",
    "sns.set_style('whitegrid')\n",
    "newdf2['Close'].plot(figsize=(12,6),label='Close')\n",
    "newdf2['Close'].rolling(window=30).mean().plot(label='30 Day Avg')# Plotting the \n",
    "#rolling 30 day average against the Close Price\n",
    "plt.legend()"
   ]
  },
  {
   "cell_type": "markdown",
   "metadata": {},
   "source": [
    "<h4>Adding new feature to improve Accuracy</h4>"
   ]
  },
  {
   "cell_type": "code",
   "execution_count": 379,
   "metadata": {},
   "outputs": [
    {
     "name": "stderr",
     "output_type": "stream",
     "text": [
      "C:\\Users\\Nilkanth kulkarni\\Anaconda3\\lib\\site-packages\\ipykernel_launcher.py:1: SettingWithCopyWarning: \n",
      "A value is trying to be set on a copy of a slice from a DataFrame.\n",
      "Try using .loc[row_indexer,col_indexer] = value instead\n",
      "\n",
      "See the caveats in the documentation: http://pandas.pydata.org/pandas-docs/stable/indexing.html#indexing-view-versus-copy\n",
      "  \"\"\"Entry point for launching an IPython kernel.\n"
     ]
    }
   ],
   "source": [
    "newdf1['ohlc_average'] = (newdf1['Open'] + newdf1['High'] + newdf1['Low'] + newdf1['Close']) /4"
   ]
  },
  {
   "cell_type": "code",
   "execution_count": 380,
   "metadata": {
    "scrolled": true
   },
   "outputs": [
    {
     "data": {
      "text/html": [
       "<div>\n",
       "<style scoped>\n",
       "    .dataframe tbody tr th:only-of-type {\n",
       "        vertical-align: middle;\n",
       "    }\n",
       "\n",
       "    .dataframe tbody tr th {\n",
       "        vertical-align: top;\n",
       "    }\n",
       "\n",
       "    .dataframe thead th {\n",
       "        text-align: right;\n",
       "    }\n",
       "</style>\n",
       "<table border=\"1\" class=\"dataframe\">\n",
       "  <thead>\n",
       "    <tr style=\"text-align: right;\">\n",
       "      <th></th>\n",
       "      <th>Open</th>\n",
       "      <th>High</th>\n",
       "      <th>Low</th>\n",
       "      <th>Close</th>\n",
       "      <th>Volume_(BTC)</th>\n",
       "      <th>Volume_(Currency)</th>\n",
       "      <th>Weighted_Price</th>\n",
       "      <th>ohlc_average</th>\n",
       "    </tr>\n",
       "  </thead>\n",
       "  <tbody>\n",
       "    <tr>\n",
       "      <th>0</th>\n",
       "      <td>4.39</td>\n",
       "      <td>4.39</td>\n",
       "      <td>4.39</td>\n",
       "      <td>4.39</td>\n",
       "      <td>0.455581</td>\n",
       "      <td>2.000000</td>\n",
       "      <td>4.390000</td>\n",
       "      <td>4.390</td>\n",
       "    </tr>\n",
       "    <tr>\n",
       "      <th>478</th>\n",
       "      <td>4.39</td>\n",
       "      <td>4.39</td>\n",
       "      <td>4.39</td>\n",
       "      <td>4.39</td>\n",
       "      <td>48.000000</td>\n",
       "      <td>210.720000</td>\n",
       "      <td>4.390000</td>\n",
       "      <td>4.390</td>\n",
       "    </tr>\n",
       "    <tr>\n",
       "      <th>547</th>\n",
       "      <td>4.50</td>\n",
       "      <td>4.57</td>\n",
       "      <td>4.50</td>\n",
       "      <td>4.57</td>\n",
       "      <td>37.862297</td>\n",
       "      <td>171.380338</td>\n",
       "      <td>4.526411</td>\n",
       "      <td>4.535</td>\n",
       "    </tr>\n",
       "    <tr>\n",
       "      <th>548</th>\n",
       "      <td>4.58</td>\n",
       "      <td>4.58</td>\n",
       "      <td>4.58</td>\n",
       "      <td>4.58</td>\n",
       "      <td>9.000000</td>\n",
       "      <td>41.220000</td>\n",
       "      <td>4.580000</td>\n",
       "      <td>4.580</td>\n",
       "    </tr>\n",
       "    <tr>\n",
       "      <th>1224</th>\n",
       "      <td>4.58</td>\n",
       "      <td>4.58</td>\n",
       "      <td>4.58</td>\n",
       "      <td>4.58</td>\n",
       "      <td>1.502000</td>\n",
       "      <td>6.879160</td>\n",
       "      <td>4.580000</td>\n",
       "      <td>4.580</td>\n",
       "    </tr>\n",
       "  </tbody>\n",
       "</table>\n",
       "</div>"
      ],
      "text/plain": [
       "      Open  High   Low  Close  Volume_(BTC)  Volume_(Currency)  \\\n",
       "0     4.39  4.39  4.39   4.39      0.455581           2.000000   \n",
       "478   4.39  4.39  4.39   4.39     48.000000         210.720000   \n",
       "547   4.50  4.57  4.50   4.57     37.862297         171.380338   \n",
       "548   4.58  4.58  4.58   4.58      9.000000          41.220000   \n",
       "1224  4.58  4.58  4.58   4.58      1.502000           6.879160   \n",
       "\n",
       "      Weighted_Price  ohlc_average  \n",
       "0           4.390000         4.390  \n",
       "478         4.390000         4.390  \n",
       "547         4.526411         4.535  \n",
       "548         4.580000         4.580  \n",
       "1224        4.580000         4.580  "
      ]
     },
     "execution_count": 380,
     "metadata": {},
     "output_type": "execute_result"
    }
   ],
   "source": [
    "newdf1.head()"
   ]
  },
  {
   "cell_type": "code",
   "execution_count": 381,
   "metadata": {},
   "outputs": [
    {
     "name": "stderr",
     "output_type": "stream",
     "text": [
      "C:\\Users\\Nilkanth kulkarni\\Anaconda3\\lib\\site-packages\\ipykernel_launcher.py:1: SettingWithCopyWarning: \n",
      "A value is trying to be set on a copy of a slice from a DataFrame.\n",
      "Try using .loc[row_indexer,col_indexer] = value instead\n",
      "\n",
      "See the caveats in the documentation: http://pandas.pydata.org/pandas-docs/stable/indexing.html#indexing-view-versus-copy\n",
      "  \"\"\"Entry point for launching an IPython kernel.\n"
     ]
    }
   ],
   "source": [
    "newdf2['ohlc_average'] = (newdf2['Open'] + newdf2['High'] + newdf2['Low'] + newdf2['Close']) /4"
   ]
  },
  {
   "cell_type": "code",
   "execution_count": 382,
   "metadata": {},
   "outputs": [
    {
     "data": {
      "text/html": [
       "<div>\n",
       "<style scoped>\n",
       "    .dataframe tbody tr th:only-of-type {\n",
       "        vertical-align: middle;\n",
       "    }\n",
       "\n",
       "    .dataframe tbody tr th {\n",
       "        vertical-align: top;\n",
       "    }\n",
       "\n",
       "    .dataframe thead th {\n",
       "        text-align: right;\n",
       "    }\n",
       "</style>\n",
       "<table border=\"1\" class=\"dataframe\">\n",
       "  <thead>\n",
       "    <tr style=\"text-align: right;\">\n",
       "      <th></th>\n",
       "      <th>Open</th>\n",
       "      <th>High</th>\n",
       "      <th>Low</th>\n",
       "      <th>Close</th>\n",
       "      <th>Volume_(BTC)</th>\n",
       "      <th>Volume_(Currency)</th>\n",
       "      <th>Weighted_Price</th>\n",
       "      <th>ohlc_average</th>\n",
       "    </tr>\n",
       "  </thead>\n",
       "  <tbody>\n",
       "    <tr>\n",
       "      <th>0</th>\n",
       "      <td>300.0</td>\n",
       "      <td>300.0</td>\n",
       "      <td>300.0</td>\n",
       "      <td>300.0</td>\n",
       "      <td>0.010000</td>\n",
       "      <td>3.00000</td>\n",
       "      <td>300.0</td>\n",
       "      <td>300.0</td>\n",
       "    </tr>\n",
       "    <tr>\n",
       "      <th>7</th>\n",
       "      <td>300.0</td>\n",
       "      <td>300.0</td>\n",
       "      <td>300.0</td>\n",
       "      <td>300.0</td>\n",
       "      <td>0.010000</td>\n",
       "      <td>3.00000</td>\n",
       "      <td>300.0</td>\n",
       "      <td>300.0</td>\n",
       "    </tr>\n",
       "    <tr>\n",
       "      <th>51</th>\n",
       "      <td>370.0</td>\n",
       "      <td>370.0</td>\n",
       "      <td>370.0</td>\n",
       "      <td>370.0</td>\n",
       "      <td>0.010000</td>\n",
       "      <td>3.70000</td>\n",
       "      <td>370.0</td>\n",
       "      <td>370.0</td>\n",
       "    </tr>\n",
       "    <tr>\n",
       "      <th>77</th>\n",
       "      <td>370.0</td>\n",
       "      <td>370.0</td>\n",
       "      <td>370.0</td>\n",
       "      <td>370.0</td>\n",
       "      <td>0.026556</td>\n",
       "      <td>9.82555</td>\n",
       "      <td>370.0</td>\n",
       "      <td>370.0</td>\n",
       "    </tr>\n",
       "    <tr>\n",
       "      <th>1436</th>\n",
       "      <td>377.0</td>\n",
       "      <td>377.0</td>\n",
       "      <td>377.0</td>\n",
       "      <td>377.0</td>\n",
       "      <td>0.010000</td>\n",
       "      <td>3.77000</td>\n",
       "      <td>377.0</td>\n",
       "      <td>377.0</td>\n",
       "    </tr>\n",
       "  </tbody>\n",
       "</table>\n",
       "</div>"
      ],
      "text/plain": [
       "       Open   High    Low  Close  Volume_(BTC)  Volume_(Currency)  \\\n",
       "0     300.0  300.0  300.0  300.0      0.010000            3.00000   \n",
       "7     300.0  300.0  300.0  300.0      0.010000            3.00000   \n",
       "51    370.0  370.0  370.0  370.0      0.010000            3.70000   \n",
       "77    370.0  370.0  370.0  370.0      0.026556            9.82555   \n",
       "1436  377.0  377.0  377.0  377.0      0.010000            3.77000   \n",
       "\n",
       "      Weighted_Price  ohlc_average  \n",
       "0              300.0         300.0  \n",
       "7              300.0         300.0  \n",
       "51             370.0         370.0  \n",
       "77             370.0         370.0  \n",
       "1436           377.0         377.0  "
      ]
     },
     "execution_count": 382,
     "metadata": {},
     "output_type": "execute_result"
    }
   ],
   "source": [
    "newdf2.head()"
   ]
  },
  {
   "cell_type": "code",
   "execution_count": 383,
   "metadata": {},
   "outputs": [
    {
     "name": "stderr",
     "output_type": "stream",
     "text": [
      "C:\\Users\\Nilkanth kulkarni\\Anaconda3\\lib\\site-packages\\ipykernel_launcher.py:1: SettingWithCopyWarning: \n",
      "A value is trying to be set on a copy of a slice from a DataFrame.\n",
      "Try using .loc[row_indexer,col_indexer] = value instead\n",
      "\n",
      "See the caveats in the documentation: http://pandas.pydata.org/pandas-docs/stable/indexing.html#indexing-view-versus-copy\n",
      "  \"\"\"Entry point for launching an IPython kernel.\n"
     ]
    }
   ],
   "source": [
    "newdf1['Price_After_Month']=newdf1['Close'].shift(-30)"
   ]
  },
  {
   "cell_type": "code",
   "execution_count": 384,
   "metadata": {},
   "outputs": [
    {
     "name": "stderr",
     "output_type": "stream",
     "text": [
      "C:\\Users\\Nilkanth kulkarni\\Anaconda3\\lib\\site-packages\\ipykernel_launcher.py:1: SettingWithCopyWarning: \n",
      "A value is trying to be set on a copy of a slice from a DataFrame.\n",
      "Try using .loc[row_indexer,col_indexer] = value instead\n",
      "\n",
      "See the caveats in the documentation: http://pandas.pydata.org/pandas-docs/stable/indexing.html#indexing-view-versus-copy\n",
      "  \"\"\"Entry point for launching an IPython kernel.\n"
     ]
    }
   ],
   "source": [
    "newdf2['Price_After_Month']=newdf2['Close'].shift(-30)"
   ]
  },
  {
   "cell_type": "code",
   "execution_count": 385,
   "metadata": {},
   "outputs": [
    {
     "data": {
      "text/html": [
       "<div>\n",
       "<style scoped>\n",
       "    .dataframe tbody tr th:only-of-type {\n",
       "        vertical-align: middle;\n",
       "    }\n",
       "\n",
       "    .dataframe tbody tr th {\n",
       "        vertical-align: top;\n",
       "    }\n",
       "\n",
       "    .dataframe thead th {\n",
       "        text-align: right;\n",
       "    }\n",
       "</style>\n",
       "<table border=\"1\" class=\"dataframe\">\n",
       "  <thead>\n",
       "    <tr style=\"text-align: right;\">\n",
       "      <th></th>\n",
       "      <th>Open</th>\n",
       "      <th>High</th>\n",
       "      <th>Low</th>\n",
       "      <th>Close</th>\n",
       "      <th>Volume_(BTC)</th>\n",
       "      <th>Volume_(Currency)</th>\n",
       "      <th>Weighted_Price</th>\n",
       "      <th>ohlc_average</th>\n",
       "      <th>Price_After_Month</th>\n",
       "    </tr>\n",
       "  </thead>\n",
       "  <tbody>\n",
       "    <tr>\n",
       "      <th>2099729</th>\n",
       "      <td>4011.51</td>\n",
       "      <td>4011.51</td>\n",
       "      <td>4011.50</td>\n",
       "      <td>4011.50</td>\n",
       "      <td>0.618715</td>\n",
       "      <td>2481.976711</td>\n",
       "      <td>4011.504804</td>\n",
       "      <td>4011.5050</td>\n",
       "      <td>4005.99</td>\n",
       "    </tr>\n",
       "    <tr>\n",
       "      <th>2099730</th>\n",
       "      <td>4011.51</td>\n",
       "      <td>4011.51</td>\n",
       "      <td>4011.50</td>\n",
       "      <td>4011.51</td>\n",
       "      <td>4.800442</td>\n",
       "      <td>19257.017170</td>\n",
       "      <td>4011.508983</td>\n",
       "      <td>4011.5075</td>\n",
       "      <td>NaN</td>\n",
       "    </tr>\n",
       "    <tr>\n",
       "      <th>2099731</th>\n",
       "      <td>4011.51</td>\n",
       "      <td>4011.51</td>\n",
       "      <td>4011.50</td>\n",
       "      <td>4011.50</td>\n",
       "      <td>2.564290</td>\n",
       "      <td>10286.657789</td>\n",
       "      <td>4011.503219</td>\n",
       "      <td>4011.5050</td>\n",
       "      <td>NaN</td>\n",
       "    </tr>\n",
       "    <tr>\n",
       "      <th>2099732</th>\n",
       "      <td>4011.51</td>\n",
       "      <td>4013.45</td>\n",
       "      <td>4011.50</td>\n",
       "      <td>4013.45</td>\n",
       "      <td>12.323814</td>\n",
       "      <td>49446.144604</td>\n",
       "      <td>4012.243570</td>\n",
       "      <td>4012.4775</td>\n",
       "      <td>NaN</td>\n",
       "    </tr>\n",
       "    <tr>\n",
       "      <th>2099733</th>\n",
       "      <td>4013.45</td>\n",
       "      <td>4015.00</td>\n",
       "      <td>4013.44</td>\n",
       "      <td>4015.00</td>\n",
       "      <td>13.981753</td>\n",
       "      <td>56123.805701</td>\n",
       "      <td>4014.075072</td>\n",
       "      <td>4014.2225</td>\n",
       "      <td>NaN</td>\n",
       "    </tr>\n",
       "    <tr>\n",
       "      <th>2099734</th>\n",
       "      <td>4015.00</td>\n",
       "      <td>4016.50</td>\n",
       "      <td>4015.00</td>\n",
       "      <td>4015.80</td>\n",
       "      <td>3.749535</td>\n",
       "      <td>15057.021696</td>\n",
       "      <td>4015.703679</td>\n",
       "      <td>4015.5750</td>\n",
       "      <td>NaN</td>\n",
       "    </tr>\n",
       "    <tr>\n",
       "      <th>2099735</th>\n",
       "      <td>4015.80</td>\n",
       "      <td>4015.80</td>\n",
       "      <td>4015.79</td>\n",
       "      <td>4015.79</td>\n",
       "      <td>1.856575</td>\n",
       "      <td>7455.632556</td>\n",
       "      <td>4015.799068</td>\n",
       "      <td>4015.7950</td>\n",
       "      <td>NaN</td>\n",
       "    </tr>\n",
       "    <tr>\n",
       "      <th>2099736</th>\n",
       "      <td>4015.80</td>\n",
       "      <td>4015.80</td>\n",
       "      <td>4015.79</td>\n",
       "      <td>4015.79</td>\n",
       "      <td>3.935866</td>\n",
       "      <td>15805.631118</td>\n",
       "      <td>4015.794631</td>\n",
       "      <td>4015.7950</td>\n",
       "      <td>NaN</td>\n",
       "    </tr>\n",
       "    <tr>\n",
       "      <th>2099737</th>\n",
       "      <td>4015.80</td>\n",
       "      <td>4015.80</td>\n",
       "      <td>4013.18</td>\n",
       "      <td>4014.64</td>\n",
       "      <td>14.744987</td>\n",
       "      <td>59208.462922</td>\n",
       "      <td>4015.497845</td>\n",
       "      <td>4014.8550</td>\n",
       "      <td>NaN</td>\n",
       "    </tr>\n",
       "    <tr>\n",
       "      <th>2099738</th>\n",
       "      <td>4014.65</td>\n",
       "      <td>4018.30</td>\n",
       "      <td>4014.64</td>\n",
       "      <td>4018.05</td>\n",
       "      <td>10.469356</td>\n",
       "      <td>42054.587908</td>\n",
       "      <td>4016.922240</td>\n",
       "      <td>4016.4100</td>\n",
       "      <td>NaN</td>\n",
       "    </tr>\n",
       "    <tr>\n",
       "      <th>2099739</th>\n",
       "      <td>4018.02</td>\n",
       "      <td>4018.11</td>\n",
       "      <td>4014.70</td>\n",
       "      <td>4014.87</td>\n",
       "      <td>4.673189</td>\n",
       "      <td>18768.274910</td>\n",
       "      <td>4016.160149</td>\n",
       "      <td>4016.4250</td>\n",
       "      <td>NaN</td>\n",
       "    </tr>\n",
       "    <tr>\n",
       "      <th>2099740</th>\n",
       "      <td>4014.90</td>\n",
       "      <td>4015.89</td>\n",
       "      <td>4014.90</td>\n",
       "      <td>4015.74</td>\n",
       "      <td>4.222425</td>\n",
       "      <td>16956.060548</td>\n",
       "      <td>4015.716607</td>\n",
       "      <td>4015.3575</td>\n",
       "      <td>NaN</td>\n",
       "    </tr>\n",
       "    <tr>\n",
       "      <th>2099741</th>\n",
       "      <td>4015.74</td>\n",
       "      <td>4015.74</td>\n",
       "      <td>4014.64</td>\n",
       "      <td>4014.64</td>\n",
       "      <td>8.378448</td>\n",
       "      <td>33644.339692</td>\n",
       "      <td>4015.581163</td>\n",
       "      <td>4015.1900</td>\n",
       "      <td>NaN</td>\n",
       "    </tr>\n",
       "    <tr>\n",
       "      <th>2099742</th>\n",
       "      <td>4014.65</td>\n",
       "      <td>4014.65</td>\n",
       "      <td>4014.64</td>\n",
       "      <td>4014.65</td>\n",
       "      <td>1.846774</td>\n",
       "      <td>7414.138808</td>\n",
       "      <td>4014.643943</td>\n",
       "      <td>4014.6475</td>\n",
       "      <td>NaN</td>\n",
       "    </tr>\n",
       "    <tr>\n",
       "      <th>2099743</th>\n",
       "      <td>4014.65</td>\n",
       "      <td>4014.65</td>\n",
       "      <td>4010.96</td>\n",
       "      <td>4012.40</td>\n",
       "      <td>7.349811</td>\n",
       "      <td>29490.133335</td>\n",
       "      <td>4012.366127</td>\n",
       "      <td>4013.1650</td>\n",
       "      <td>NaN</td>\n",
       "    </tr>\n",
       "    <tr>\n",
       "      <th>2099744</th>\n",
       "      <td>4012.40</td>\n",
       "      <td>4012.40</td>\n",
       "      <td>4010.04</td>\n",
       "      <td>4010.13</td>\n",
       "      <td>4.909604</td>\n",
       "      <td>19694.778769</td>\n",
       "      <td>4011.479901</td>\n",
       "      <td>4011.2425</td>\n",
       "      <td>NaN</td>\n",
       "    </tr>\n",
       "    <tr>\n",
       "      <th>2099745</th>\n",
       "      <td>4011.38</td>\n",
       "      <td>4012.40</td>\n",
       "      <td>4010.44</td>\n",
       "      <td>4010.72</td>\n",
       "      <td>4.804125</td>\n",
       "      <td>19272.037632</td>\n",
       "      <td>4011.560673</td>\n",
       "      <td>4011.2350</td>\n",
       "      <td>NaN</td>\n",
       "    </tr>\n",
       "    <tr>\n",
       "      <th>2099746</th>\n",
       "      <td>4010.73</td>\n",
       "      <td>4010.74</td>\n",
       "      <td>4010.00</td>\n",
       "      <td>4010.74</td>\n",
       "      <td>13.043658</td>\n",
       "      <td>52313.110686</td>\n",
       "      <td>4010.616565</td>\n",
       "      <td>4010.5525</td>\n",
       "      <td>NaN</td>\n",
       "    </tr>\n",
       "    <tr>\n",
       "      <th>2099747</th>\n",
       "      <td>4010.72</td>\n",
       "      <td>4011.00</td>\n",
       "      <td>4009.95</td>\n",
       "      <td>4010.75</td>\n",
       "      <td>5.149147</td>\n",
       "      <td>20650.628292</td>\n",
       "      <td>4010.495240</td>\n",
       "      <td>4010.6050</td>\n",
       "      <td>NaN</td>\n",
       "    </tr>\n",
       "    <tr>\n",
       "      <th>2099748</th>\n",
       "      <td>4010.71</td>\n",
       "      <td>4011.22</td>\n",
       "      <td>4009.67</td>\n",
       "      <td>4010.29</td>\n",
       "      <td>5.688910</td>\n",
       "      <td>22814.904034</td>\n",
       "      <td>4010.417799</td>\n",
       "      <td>4010.4725</td>\n",
       "      <td>NaN</td>\n",
       "    </tr>\n",
       "    <tr>\n",
       "      <th>2099749</th>\n",
       "      <td>4010.81</td>\n",
       "      <td>4010.81</td>\n",
       "      <td>4009.54</td>\n",
       "      <td>4009.54</td>\n",
       "      <td>1.307076</td>\n",
       "      <td>5241.132727</td>\n",
       "      <td>4009.813694</td>\n",
       "      <td>4010.1750</td>\n",
       "      <td>NaN</td>\n",
       "    </tr>\n",
       "    <tr>\n",
       "      <th>2099750</th>\n",
       "      <td>4009.54</td>\n",
       "      <td>4009.54</td>\n",
       "      <td>4007.00</td>\n",
       "      <td>4007.01</td>\n",
       "      <td>4.540920</td>\n",
       "      <td>18199.978249</td>\n",
       "      <td>4007.993430</td>\n",
       "      <td>4008.2725</td>\n",
       "      <td>NaN</td>\n",
       "    </tr>\n",
       "    <tr>\n",
       "      <th>2099751</th>\n",
       "      <td>4007.00</td>\n",
       "      <td>4007.01</td>\n",
       "      <td>4000.24</td>\n",
       "      <td>4003.49</td>\n",
       "      <td>9.452163</td>\n",
       "      <td>37845.755391</td>\n",
       "      <td>4003.925395</td>\n",
       "      <td>4004.4350</td>\n",
       "      <td>NaN</td>\n",
       "    </tr>\n",
       "    <tr>\n",
       "      <th>2099752</th>\n",
       "      <td>4003.49</td>\n",
       "      <td>4007.29</td>\n",
       "      <td>4003.49</td>\n",
       "      <td>4006.57</td>\n",
       "      <td>11.838284</td>\n",
       "      <td>47417.543200</td>\n",
       "      <td>4005.440599</td>\n",
       "      <td>4005.2100</td>\n",
       "      <td>NaN</td>\n",
       "    </tr>\n",
       "    <tr>\n",
       "      <th>2099753</th>\n",
       "      <td>4006.56</td>\n",
       "      <td>4006.57</td>\n",
       "      <td>4006.56</td>\n",
       "      <td>4006.56</td>\n",
       "      <td>8.475772</td>\n",
       "      <td>33958.700070</td>\n",
       "      <td>4006.561247</td>\n",
       "      <td>4006.5625</td>\n",
       "      <td>NaN</td>\n",
       "    </tr>\n",
       "    <tr>\n",
       "      <th>2099754</th>\n",
       "      <td>4006.57</td>\n",
       "      <td>4006.57</td>\n",
       "      <td>4006.00</td>\n",
       "      <td>4006.01</td>\n",
       "      <td>6.951222</td>\n",
       "      <td>27849.509219</td>\n",
       "      <td>4006.419421</td>\n",
       "      <td>4006.2875</td>\n",
       "      <td>NaN</td>\n",
       "    </tr>\n",
       "    <tr>\n",
       "      <th>2099755</th>\n",
       "      <td>4006.01</td>\n",
       "      <td>4006.57</td>\n",
       "      <td>4006.00</td>\n",
       "      <td>4006.01</td>\n",
       "      <td>3.382954</td>\n",
       "      <td>13553.433078</td>\n",
       "      <td>4006.390309</td>\n",
       "      <td>4006.1475</td>\n",
       "      <td>NaN</td>\n",
       "    </tr>\n",
       "    <tr>\n",
       "      <th>2099756</th>\n",
       "      <td>4006.01</td>\n",
       "      <td>4006.57</td>\n",
       "      <td>4006.00</td>\n",
       "      <td>4006.01</td>\n",
       "      <td>0.902164</td>\n",
       "      <td>3614.083169</td>\n",
       "      <td>4006.017233</td>\n",
       "      <td>4006.1475</td>\n",
       "      <td>NaN</td>\n",
       "    </tr>\n",
       "    <tr>\n",
       "      <th>2099757</th>\n",
       "      <td>4006.01</td>\n",
       "      <td>4006.01</td>\n",
       "      <td>4006.00</td>\n",
       "      <td>4006.01</td>\n",
       "      <td>1.192123</td>\n",
       "      <td>4775.647308</td>\n",
       "      <td>4006.003635</td>\n",
       "      <td>4006.0075</td>\n",
       "      <td>NaN</td>\n",
       "    </tr>\n",
       "    <tr>\n",
       "      <th>2099758</th>\n",
       "      <td>4006.01</td>\n",
       "      <td>4006.01</td>\n",
       "      <td>4005.50</td>\n",
       "      <td>4005.50</td>\n",
       "      <td>2.699700</td>\n",
       "      <td>10814.241898</td>\n",
       "      <td>4005.719991</td>\n",
       "      <td>4005.7550</td>\n",
       "      <td>NaN</td>\n",
       "    </tr>\n",
       "    <tr>\n",
       "      <th>2099759</th>\n",
       "      <td>4005.51</td>\n",
       "      <td>4006.01</td>\n",
       "      <td>4005.51</td>\n",
       "      <td>4005.99</td>\n",
       "      <td>1.752778</td>\n",
       "      <td>7021.183546</td>\n",
       "      <td>4005.745614</td>\n",
       "      <td>4005.7550</td>\n",
       "      <td>NaN</td>\n",
       "    </tr>\n",
       "  </tbody>\n",
       "</table>\n",
       "</div>"
      ],
      "text/plain": [
       "            Open     High      Low    Close  Volume_(BTC)  Volume_(Currency)  \\\n",
       "2099729  4011.51  4011.51  4011.50  4011.50      0.618715        2481.976711   \n",
       "2099730  4011.51  4011.51  4011.50  4011.51      4.800442       19257.017170   \n",
       "2099731  4011.51  4011.51  4011.50  4011.50      2.564290       10286.657789   \n",
       "2099732  4011.51  4013.45  4011.50  4013.45     12.323814       49446.144604   \n",
       "2099733  4013.45  4015.00  4013.44  4015.00     13.981753       56123.805701   \n",
       "2099734  4015.00  4016.50  4015.00  4015.80      3.749535       15057.021696   \n",
       "2099735  4015.80  4015.80  4015.79  4015.79      1.856575        7455.632556   \n",
       "2099736  4015.80  4015.80  4015.79  4015.79      3.935866       15805.631118   \n",
       "2099737  4015.80  4015.80  4013.18  4014.64     14.744987       59208.462922   \n",
       "2099738  4014.65  4018.30  4014.64  4018.05     10.469356       42054.587908   \n",
       "2099739  4018.02  4018.11  4014.70  4014.87      4.673189       18768.274910   \n",
       "2099740  4014.90  4015.89  4014.90  4015.74      4.222425       16956.060548   \n",
       "2099741  4015.74  4015.74  4014.64  4014.64      8.378448       33644.339692   \n",
       "2099742  4014.65  4014.65  4014.64  4014.65      1.846774        7414.138808   \n",
       "2099743  4014.65  4014.65  4010.96  4012.40      7.349811       29490.133335   \n",
       "2099744  4012.40  4012.40  4010.04  4010.13      4.909604       19694.778769   \n",
       "2099745  4011.38  4012.40  4010.44  4010.72      4.804125       19272.037632   \n",
       "2099746  4010.73  4010.74  4010.00  4010.74     13.043658       52313.110686   \n",
       "2099747  4010.72  4011.00  4009.95  4010.75      5.149147       20650.628292   \n",
       "2099748  4010.71  4011.22  4009.67  4010.29      5.688910       22814.904034   \n",
       "2099749  4010.81  4010.81  4009.54  4009.54      1.307076        5241.132727   \n",
       "2099750  4009.54  4009.54  4007.00  4007.01      4.540920       18199.978249   \n",
       "2099751  4007.00  4007.01  4000.24  4003.49      9.452163       37845.755391   \n",
       "2099752  4003.49  4007.29  4003.49  4006.57     11.838284       47417.543200   \n",
       "2099753  4006.56  4006.57  4006.56  4006.56      8.475772       33958.700070   \n",
       "2099754  4006.57  4006.57  4006.00  4006.01      6.951222       27849.509219   \n",
       "2099755  4006.01  4006.57  4006.00  4006.01      3.382954       13553.433078   \n",
       "2099756  4006.01  4006.57  4006.00  4006.01      0.902164        3614.083169   \n",
       "2099757  4006.01  4006.01  4006.00  4006.01      1.192123        4775.647308   \n",
       "2099758  4006.01  4006.01  4005.50  4005.50      2.699700       10814.241898   \n",
       "2099759  4005.51  4006.01  4005.51  4005.99      1.752778        7021.183546   \n",
       "\n",
       "         Weighted_Price  ohlc_average  Price_After_Month  \n",
       "2099729     4011.504804     4011.5050            4005.99  \n",
       "2099730     4011.508983     4011.5075                NaN  \n",
       "2099731     4011.503219     4011.5050                NaN  \n",
       "2099732     4012.243570     4012.4775                NaN  \n",
       "2099733     4014.075072     4014.2225                NaN  \n",
       "2099734     4015.703679     4015.5750                NaN  \n",
       "2099735     4015.799068     4015.7950                NaN  \n",
       "2099736     4015.794631     4015.7950                NaN  \n",
       "2099737     4015.497845     4014.8550                NaN  \n",
       "2099738     4016.922240     4016.4100                NaN  \n",
       "2099739     4016.160149     4016.4250                NaN  \n",
       "2099740     4015.716607     4015.3575                NaN  \n",
       "2099741     4015.581163     4015.1900                NaN  \n",
       "2099742     4014.643943     4014.6475                NaN  \n",
       "2099743     4012.366127     4013.1650                NaN  \n",
       "2099744     4011.479901     4011.2425                NaN  \n",
       "2099745     4011.560673     4011.2350                NaN  \n",
       "2099746     4010.616565     4010.5525                NaN  \n",
       "2099747     4010.495240     4010.6050                NaN  \n",
       "2099748     4010.417799     4010.4725                NaN  \n",
       "2099749     4009.813694     4010.1750                NaN  \n",
       "2099750     4007.993430     4008.2725                NaN  \n",
       "2099751     4003.925395     4004.4350                NaN  \n",
       "2099752     4005.440599     4005.2100                NaN  \n",
       "2099753     4006.561247     4006.5625                NaN  \n",
       "2099754     4006.419421     4006.2875                NaN  \n",
       "2099755     4006.390309     4006.1475                NaN  \n",
       "2099756     4006.017233     4006.1475                NaN  \n",
       "2099757     4006.003635     4006.0075                NaN  \n",
       "2099758     4005.719991     4005.7550                NaN  \n",
       "2099759     4005.745614     4005.7550                NaN  "
      ]
     },
     "execution_count": 385,
     "metadata": {},
     "output_type": "execute_result"
    }
   ],
   "source": [
    "newdf2.tail(31)"
   ]
  },
  {
   "cell_type": "code",
   "execution_count": 232,
   "metadata": {},
   "outputs": [
    {
     "name": "stderr",
     "output_type": "stream",
     "text": [
      "C:\\Users\\Nilkanth kulkarni\\Anaconda3\\lib\\site-packages\\pandas\\core\\frame.py:3940: SettingWithCopyWarning: \n",
      "A value is trying to be set on a copy of a slice from a DataFrame\n",
      "\n",
      "See the caveats in the documentation: http://pandas.pydata.org/pandas-docs/stable/indexing.html#indexing-view-versus-copy\n",
      "  errors=errors)\n"
     ]
    }
   ],
   "source": [
    "newdf1.drop(['Volume_(BTC)','Volume_(Currency)','Weighted_Price'],axis=1,inplace=True)"
   ]
  },
  {
   "cell_type": "code",
   "execution_count": 386,
   "metadata": {},
   "outputs": [
    {
     "data": {
      "text/html": [
       "<div>\n",
       "<style scoped>\n",
       "    .dataframe tbody tr th:only-of-type {\n",
       "        vertical-align: middle;\n",
       "    }\n",
       "\n",
       "    .dataframe tbody tr th {\n",
       "        vertical-align: top;\n",
       "    }\n",
       "\n",
       "    .dataframe thead th {\n",
       "        text-align: right;\n",
       "    }\n",
       "</style>\n",
       "<table border=\"1\" class=\"dataframe\">\n",
       "  <thead>\n",
       "    <tr style=\"text-align: right;\">\n",
       "      <th></th>\n",
       "      <th>Open</th>\n",
       "      <th>High</th>\n",
       "      <th>Low</th>\n",
       "      <th>Close</th>\n",
       "      <th>Volume_(BTC)</th>\n",
       "      <th>Volume_(Currency)</th>\n",
       "      <th>Weighted_Price</th>\n",
       "      <th>ohlc_average</th>\n",
       "      <th>Price_After_Month</th>\n",
       "    </tr>\n",
       "  </thead>\n",
       "  <tbody>\n",
       "    <tr>\n",
       "      <th>3997666</th>\n",
       "      <td>11516.00</td>\n",
       "      <td>11525.00</td>\n",
       "      <td>11516.00</td>\n",
       "      <td>11525.00</td>\n",
       "      <td>1.118883</td>\n",
       "      <td>12885.625422</td>\n",
       "      <td>11516.509389</td>\n",
       "      <td>11520.5000</td>\n",
       "      <td>11520.0</td>\n",
       "    </tr>\n",
       "    <tr>\n",
       "      <th>3997667</th>\n",
       "      <td>11525.00</td>\n",
       "      <td>11532.11</td>\n",
       "      <td>11496.79</td>\n",
       "      <td>11504.84</td>\n",
       "      <td>29.196789</td>\n",
       "      <td>336153.864640</td>\n",
       "      <td>11513.384837</td>\n",
       "      <td>11514.6850</td>\n",
       "      <td>NaN</td>\n",
       "    </tr>\n",
       "    <tr>\n",
       "      <th>3997668</th>\n",
       "      <td>11506.83</td>\n",
       "      <td>11506.83</td>\n",
       "      <td>11506.83</td>\n",
       "      <td>11506.83</td>\n",
       "      <td>0.022696</td>\n",
       "      <td>261.163156</td>\n",
       "      <td>11506.830000</td>\n",
       "      <td>11506.8300</td>\n",
       "      <td>NaN</td>\n",
       "    </tr>\n",
       "    <tr>\n",
       "      <th>3997669</th>\n",
       "      <td>11508.67</td>\n",
       "      <td>11510.43</td>\n",
       "      <td>11498.74</td>\n",
       "      <td>11498.74</td>\n",
       "      <td>5.393892</td>\n",
       "      <td>62085.156759</td>\n",
       "      <td>11510.270561</td>\n",
       "      <td>11504.1450</td>\n",
       "      <td>NaN</td>\n",
       "    </tr>\n",
       "    <tr>\n",
       "      <th>3997670</th>\n",
       "      <td>11517.73</td>\n",
       "      <td>11525.37</td>\n",
       "      <td>11517.73</td>\n",
       "      <td>11525.37</td>\n",
       "      <td>0.415343</td>\n",
       "      <td>4784.035332</td>\n",
       "      <td>11518.264964</td>\n",
       "      <td>11521.5500</td>\n",
       "      <td>NaN</td>\n",
       "    </tr>\n",
       "    <tr>\n",
       "      <th>3997671</th>\n",
       "      <td>11525.37</td>\n",
       "      <td>11525.37</td>\n",
       "      <td>11504.74</td>\n",
       "      <td>11514.93</td>\n",
       "      <td>5.482086</td>\n",
       "      <td>63135.383551</td>\n",
       "      <td>11516.670945</td>\n",
       "      <td>11517.6025</td>\n",
       "      <td>NaN</td>\n",
       "    </tr>\n",
       "    <tr>\n",
       "      <th>3997672</th>\n",
       "      <td>11520.34</td>\n",
       "      <td>11520.34</td>\n",
       "      <td>11520.34</td>\n",
       "      <td>11520.34</td>\n",
       "      <td>0.558979</td>\n",
       "      <td>6439.627902</td>\n",
       "      <td>11520.340000</td>\n",
       "      <td>11520.3400</td>\n",
       "      <td>NaN</td>\n",
       "    </tr>\n",
       "    <tr>\n",
       "      <th>3997673</th>\n",
       "      <td>11520.31</td>\n",
       "      <td>11520.31</td>\n",
       "      <td>11508.49</td>\n",
       "      <td>11508.49</td>\n",
       "      <td>0.140438</td>\n",
       "      <td>1616.506321</td>\n",
       "      <td>11510.457497</td>\n",
       "      <td>11514.4000</td>\n",
       "      <td>NaN</td>\n",
       "    </tr>\n",
       "    <tr>\n",
       "      <th>3997674</th>\n",
       "      <td>11514.01</td>\n",
       "      <td>11514.01</td>\n",
       "      <td>11514.01</td>\n",
       "      <td>11514.01</td>\n",
       "      <td>0.354032</td>\n",
       "      <td>4076.332709</td>\n",
       "      <td>11514.010000</td>\n",
       "      <td>11514.0100</td>\n",
       "      <td>NaN</td>\n",
       "    </tr>\n",
       "    <tr>\n",
       "      <th>3997675</th>\n",
       "      <td>11520.36</td>\n",
       "      <td>11520.36</td>\n",
       "      <td>11512.01</td>\n",
       "      <td>11512.01</td>\n",
       "      <td>0.049529</td>\n",
       "      <td>570.398243</td>\n",
       "      <td>11516.342869</td>\n",
       "      <td>11516.1850</td>\n",
       "      <td>NaN</td>\n",
       "    </tr>\n",
       "    <tr>\n",
       "      <th>3997676</th>\n",
       "      <td>11528.20</td>\n",
       "      <td>11532.86</td>\n",
       "      <td>11505.84</td>\n",
       "      <td>11505.97</td>\n",
       "      <td>2.049550</td>\n",
       "      <td>23627.094284</td>\n",
       "      <td>11527.942145</td>\n",
       "      <td>11518.2175</td>\n",
       "      <td>NaN</td>\n",
       "    </tr>\n",
       "    <tr>\n",
       "      <th>3997677</th>\n",
       "      <td>11522.45</td>\n",
       "      <td>11522.45</td>\n",
       "      <td>11519.16</td>\n",
       "      <td>11519.16</td>\n",
       "      <td>3.455912</td>\n",
       "      <td>39815.799091</td>\n",
       "      <td>11521.067360</td>\n",
       "      <td>11520.8050</td>\n",
       "      <td>NaN</td>\n",
       "    </tr>\n",
       "    <tr>\n",
       "      <th>3997678</th>\n",
       "      <td>11522.10</td>\n",
       "      <td>11524.83</td>\n",
       "      <td>11522.10</td>\n",
       "      <td>11524.83</td>\n",
       "      <td>0.220695</td>\n",
       "      <td>2542.910150</td>\n",
       "      <td>11522.285170</td>\n",
       "      <td>11523.4650</td>\n",
       "      <td>NaN</td>\n",
       "    </tr>\n",
       "    <tr>\n",
       "      <th>3997679</th>\n",
       "      <td>11519.26</td>\n",
       "      <td>11519.26</td>\n",
       "      <td>11510.00</td>\n",
       "      <td>11510.00</td>\n",
       "      <td>5.479156</td>\n",
       "      <td>63065.195026</td>\n",
       "      <td>11510.019621</td>\n",
       "      <td>11514.6300</td>\n",
       "      <td>NaN</td>\n",
       "    </tr>\n",
       "    <tr>\n",
       "      <th>3997680</th>\n",
       "      <td>11518.83</td>\n",
       "      <td>11533.19</td>\n",
       "      <td>11518.83</td>\n",
       "      <td>11518.83</td>\n",
       "      <td>0.301245</td>\n",
       "      <td>3470.856844</td>\n",
       "      <td>11521.713463</td>\n",
       "      <td>11522.4200</td>\n",
       "      <td>NaN</td>\n",
       "    </tr>\n",
       "    <tr>\n",
       "      <th>3997681</th>\n",
       "      <td>11518.00</td>\n",
       "      <td>11525.85</td>\n",
       "      <td>11518.00</td>\n",
       "      <td>11525.85</td>\n",
       "      <td>0.037464</td>\n",
       "      <td>431.519757</td>\n",
       "      <td>11518.097327</td>\n",
       "      <td>11521.9250</td>\n",
       "      <td>NaN</td>\n",
       "    </tr>\n",
       "    <tr>\n",
       "      <th>3997682</th>\n",
       "      <td>11525.85</td>\n",
       "      <td>11545.00</td>\n",
       "      <td>11525.85</td>\n",
       "      <td>11536.46</td>\n",
       "      <td>2.692778</td>\n",
       "      <td>31054.890094</td>\n",
       "      <td>11532.658016</td>\n",
       "      <td>11533.2900</td>\n",
       "      <td>NaN</td>\n",
       "    </tr>\n",
       "    <tr>\n",
       "      <th>3997683</th>\n",
       "      <td>11537.75</td>\n",
       "      <td>11539.04</td>\n",
       "      <td>11537.75</td>\n",
       "      <td>11539.04</td>\n",
       "      <td>1.353892</td>\n",
       "      <td>15621.323828</td>\n",
       "      <td>11538.087191</td>\n",
       "      <td>11538.3950</td>\n",
       "      <td>NaN</td>\n",
       "    </tr>\n",
       "    <tr>\n",
       "      <th>3997684</th>\n",
       "      <td>11535.84</td>\n",
       "      <td>11544.18</td>\n",
       "      <td>11531.55</td>\n",
       "      <td>11532.27</td>\n",
       "      <td>0.369848</td>\n",
       "      <td>4265.298090</td>\n",
       "      <td>11532.563833</td>\n",
       "      <td>11535.9600</td>\n",
       "      <td>NaN</td>\n",
       "    </tr>\n",
       "    <tr>\n",
       "      <th>3997685</th>\n",
       "      <td>11542.17</td>\n",
       "      <td>11550.00</td>\n",
       "      <td>11541.23</td>\n",
       "      <td>11541.23</td>\n",
       "      <td>5.850044</td>\n",
       "      <td>67547.063434</td>\n",
       "      <td>11546.420199</td>\n",
       "      <td>11543.6575</td>\n",
       "      <td>NaN</td>\n",
       "    </tr>\n",
       "    <tr>\n",
       "      <th>3997686</th>\n",
       "      <td>11550.00</td>\n",
       "      <td>11557.20</td>\n",
       "      <td>11550.00</td>\n",
       "      <td>11550.00</td>\n",
       "      <td>15.813403</td>\n",
       "      <td>182721.239490</td>\n",
       "      <td>11554.833826</td>\n",
       "      <td>11551.8000</td>\n",
       "      <td>NaN</td>\n",
       "    </tr>\n",
       "    <tr>\n",
       "      <th>3997687</th>\n",
       "      <td>11545.51</td>\n",
       "      <td>11551.97</td>\n",
       "      <td>11540.09</td>\n",
       "      <td>11551.97</td>\n",
       "      <td>0.060427</td>\n",
       "      <td>697.565087</td>\n",
       "      <td>11543.884627</td>\n",
       "      <td>11547.3850</td>\n",
       "      <td>NaN</td>\n",
       "    </tr>\n",
       "    <tr>\n",
       "      <th>3997688</th>\n",
       "      <td>11547.31</td>\n",
       "      <td>11558.24</td>\n",
       "      <td>11547.31</td>\n",
       "      <td>11558.24</td>\n",
       "      <td>2.092439</td>\n",
       "      <td>24184.122669</td>\n",
       "      <td>11557.863307</td>\n",
       "      <td>11552.7750</td>\n",
       "      <td>NaN</td>\n",
       "    </tr>\n",
       "    <tr>\n",
       "      <th>3997689</th>\n",
       "      <td>11549.34</td>\n",
       "      <td>11549.74</td>\n",
       "      <td>11540.02</td>\n",
       "      <td>11549.74</td>\n",
       "      <td>0.103055</td>\n",
       "      <td>1189.775668</td>\n",
       "      <td>11545.106772</td>\n",
       "      <td>11547.2100</td>\n",
       "      <td>NaN</td>\n",
       "    </tr>\n",
       "    <tr>\n",
       "      <th>3997690</th>\n",
       "      <td>11556.97</td>\n",
       "      <td>11556.97</td>\n",
       "      <td>11535.42</td>\n",
       "      <td>11536.12</td>\n",
       "      <td>5.936226</td>\n",
       "      <td>68594.445972</td>\n",
       "      <td>11555.228825</td>\n",
       "      <td>11546.3700</td>\n",
       "      <td>NaN</td>\n",
       "    </tr>\n",
       "    <tr>\n",
       "      <th>3997691</th>\n",
       "      <td>11537.63</td>\n",
       "      <td>11551.63</td>\n",
       "      <td>11537.63</td>\n",
       "      <td>11551.63</td>\n",
       "      <td>0.074052</td>\n",
       "      <td>855.347940</td>\n",
       "      <td>11550.565971</td>\n",
       "      <td>11544.6300</td>\n",
       "      <td>NaN</td>\n",
       "    </tr>\n",
       "    <tr>\n",
       "      <th>3997692</th>\n",
       "      <td>11555.57</td>\n",
       "      <td>11555.57</td>\n",
       "      <td>11540.37</td>\n",
       "      <td>11540.58</td>\n",
       "      <td>0.036868</td>\n",
       "      <td>425.909106</td>\n",
       "      <td>11552.336234</td>\n",
       "      <td>11548.0225</td>\n",
       "      <td>NaN</td>\n",
       "    </tr>\n",
       "    <tr>\n",
       "      <th>3997693</th>\n",
       "      <td>11553.49</td>\n",
       "      <td>11556.22</td>\n",
       "      <td>11553.49</td>\n",
       "      <td>11556.22</td>\n",
       "      <td>0.623462</td>\n",
       "      <td>7204.428272</td>\n",
       "      <td>11555.520505</td>\n",
       "      <td>11554.8550</td>\n",
       "      <td>NaN</td>\n",
       "    </tr>\n",
       "    <tr>\n",
       "      <th>3997694</th>\n",
       "      <td>11559.73</td>\n",
       "      <td>11561.22</td>\n",
       "      <td>11546.77</td>\n",
       "      <td>11561.22</td>\n",
       "      <td>0.159070</td>\n",
       "      <td>1838.731403</td>\n",
       "      <td>11559.252199</td>\n",
       "      <td>11557.2350</td>\n",
       "      <td>NaN</td>\n",
       "    </tr>\n",
       "    <tr>\n",
       "      <th>3997695</th>\n",
       "      <td>11559.73</td>\n",
       "      <td>11589.73</td>\n",
       "      <td>11528.73</td>\n",
       "      <td>11528.73</td>\n",
       "      <td>16.198210</td>\n",
       "      <td>187504.635170</td>\n",
       "      <td>11575.638889</td>\n",
       "      <td>11551.7300</td>\n",
       "      <td>NaN</td>\n",
       "    </tr>\n",
       "    <tr>\n",
       "      <th>3997696</th>\n",
       "      <td>11527.44</td>\n",
       "      <td>11551.57</td>\n",
       "      <td>11520.00</td>\n",
       "      <td>11520.00</td>\n",
       "      <td>23.805939</td>\n",
       "      <td>274731.256920</td>\n",
       "      <td>11540.450291</td>\n",
       "      <td>11529.7525</td>\n",
       "      <td>NaN</td>\n",
       "    </tr>\n",
       "  </tbody>\n",
       "</table>\n",
       "</div>"
      ],
      "text/plain": [
       "             Open      High       Low     Close  Volume_(BTC)  \\\n",
       "3997666  11516.00  11525.00  11516.00  11525.00      1.118883   \n",
       "3997667  11525.00  11532.11  11496.79  11504.84     29.196789   \n",
       "3997668  11506.83  11506.83  11506.83  11506.83      0.022696   \n",
       "3997669  11508.67  11510.43  11498.74  11498.74      5.393892   \n",
       "3997670  11517.73  11525.37  11517.73  11525.37      0.415343   \n",
       "3997671  11525.37  11525.37  11504.74  11514.93      5.482086   \n",
       "3997672  11520.34  11520.34  11520.34  11520.34      0.558979   \n",
       "3997673  11520.31  11520.31  11508.49  11508.49      0.140438   \n",
       "3997674  11514.01  11514.01  11514.01  11514.01      0.354032   \n",
       "3997675  11520.36  11520.36  11512.01  11512.01      0.049529   \n",
       "3997676  11528.20  11532.86  11505.84  11505.97      2.049550   \n",
       "3997677  11522.45  11522.45  11519.16  11519.16      3.455912   \n",
       "3997678  11522.10  11524.83  11522.10  11524.83      0.220695   \n",
       "3997679  11519.26  11519.26  11510.00  11510.00      5.479156   \n",
       "3997680  11518.83  11533.19  11518.83  11518.83      0.301245   \n",
       "3997681  11518.00  11525.85  11518.00  11525.85      0.037464   \n",
       "3997682  11525.85  11545.00  11525.85  11536.46      2.692778   \n",
       "3997683  11537.75  11539.04  11537.75  11539.04      1.353892   \n",
       "3997684  11535.84  11544.18  11531.55  11532.27      0.369848   \n",
       "3997685  11542.17  11550.00  11541.23  11541.23      5.850044   \n",
       "3997686  11550.00  11557.20  11550.00  11550.00     15.813403   \n",
       "3997687  11545.51  11551.97  11540.09  11551.97      0.060427   \n",
       "3997688  11547.31  11558.24  11547.31  11558.24      2.092439   \n",
       "3997689  11549.34  11549.74  11540.02  11549.74      0.103055   \n",
       "3997690  11556.97  11556.97  11535.42  11536.12      5.936226   \n",
       "3997691  11537.63  11551.63  11537.63  11551.63      0.074052   \n",
       "3997692  11555.57  11555.57  11540.37  11540.58      0.036868   \n",
       "3997693  11553.49  11556.22  11553.49  11556.22      0.623462   \n",
       "3997694  11559.73  11561.22  11546.77  11561.22      0.159070   \n",
       "3997695  11559.73  11589.73  11528.73  11528.73     16.198210   \n",
       "3997696  11527.44  11551.57  11520.00  11520.00     23.805939   \n",
       "\n",
       "         Volume_(Currency)  Weighted_Price  ohlc_average  Price_After_Month  \n",
       "3997666       12885.625422    11516.509389    11520.5000            11520.0  \n",
       "3997667      336153.864640    11513.384837    11514.6850                NaN  \n",
       "3997668         261.163156    11506.830000    11506.8300                NaN  \n",
       "3997669       62085.156759    11510.270561    11504.1450                NaN  \n",
       "3997670        4784.035332    11518.264964    11521.5500                NaN  \n",
       "3997671       63135.383551    11516.670945    11517.6025                NaN  \n",
       "3997672        6439.627902    11520.340000    11520.3400                NaN  \n",
       "3997673        1616.506321    11510.457497    11514.4000                NaN  \n",
       "3997674        4076.332709    11514.010000    11514.0100                NaN  \n",
       "3997675         570.398243    11516.342869    11516.1850                NaN  \n",
       "3997676       23627.094284    11527.942145    11518.2175                NaN  \n",
       "3997677       39815.799091    11521.067360    11520.8050                NaN  \n",
       "3997678        2542.910150    11522.285170    11523.4650                NaN  \n",
       "3997679       63065.195026    11510.019621    11514.6300                NaN  \n",
       "3997680        3470.856844    11521.713463    11522.4200                NaN  \n",
       "3997681         431.519757    11518.097327    11521.9250                NaN  \n",
       "3997682       31054.890094    11532.658016    11533.2900                NaN  \n",
       "3997683       15621.323828    11538.087191    11538.3950                NaN  \n",
       "3997684        4265.298090    11532.563833    11535.9600                NaN  \n",
       "3997685       67547.063434    11546.420199    11543.6575                NaN  \n",
       "3997686      182721.239490    11554.833826    11551.8000                NaN  \n",
       "3997687         697.565087    11543.884627    11547.3850                NaN  \n",
       "3997688       24184.122669    11557.863307    11552.7750                NaN  \n",
       "3997689        1189.775668    11545.106772    11547.2100                NaN  \n",
       "3997690       68594.445972    11555.228825    11546.3700                NaN  \n",
       "3997691         855.347940    11550.565971    11544.6300                NaN  \n",
       "3997692         425.909106    11552.336234    11548.0225                NaN  \n",
       "3997693        7204.428272    11555.520505    11554.8550                NaN  \n",
       "3997694        1838.731403    11559.252199    11557.2350                NaN  \n",
       "3997695      187504.635170    11575.638889    11551.7300                NaN  \n",
       "3997696      274731.256920    11540.450291    11529.7525                NaN  "
      ]
     },
     "execution_count": 386,
     "metadata": {},
     "output_type": "execute_result"
    }
   ],
   "source": [
    "newdf1.tail(31)"
   ]
  },
  {
   "cell_type": "code",
   "execution_count": 388,
   "metadata": {},
   "outputs": [
    {
     "data": {
      "text/html": [
       "<div>\n",
       "<style scoped>\n",
       "    .dataframe tbody tr th:only-of-type {\n",
       "        vertical-align: middle;\n",
       "    }\n",
       "\n",
       "    .dataframe tbody tr th {\n",
       "        vertical-align: top;\n",
       "    }\n",
       "\n",
       "    .dataframe thead th {\n",
       "        text-align: right;\n",
       "    }\n",
       "</style>\n",
       "<table border=\"1\" class=\"dataframe\">\n",
       "  <thead>\n",
       "    <tr style=\"text-align: right;\">\n",
       "      <th></th>\n",
       "      <th>Open</th>\n",
       "      <th>High</th>\n",
       "      <th>Low</th>\n",
       "      <th>Close</th>\n",
       "      <th>Volume_(BTC)</th>\n",
       "      <th>Volume_(Currency)</th>\n",
       "      <th>Weighted_Price</th>\n",
       "      <th>ohlc_average</th>\n",
       "      <th>Price_After_Month</th>\n",
       "    </tr>\n",
       "  </thead>\n",
       "  <tbody>\n",
       "    <tr>\n",
       "      <th>2099755</th>\n",
       "      <td>4006.01</td>\n",
       "      <td>4006.57</td>\n",
       "      <td>4006.00</td>\n",
       "      <td>4006.01</td>\n",
       "      <td>3.382954</td>\n",
       "      <td>13553.433078</td>\n",
       "      <td>4006.390309</td>\n",
       "      <td>4006.1475</td>\n",
       "      <td>NaN</td>\n",
       "    </tr>\n",
       "    <tr>\n",
       "      <th>2099756</th>\n",
       "      <td>4006.01</td>\n",
       "      <td>4006.57</td>\n",
       "      <td>4006.00</td>\n",
       "      <td>4006.01</td>\n",
       "      <td>0.902164</td>\n",
       "      <td>3614.083169</td>\n",
       "      <td>4006.017233</td>\n",
       "      <td>4006.1475</td>\n",
       "      <td>NaN</td>\n",
       "    </tr>\n",
       "    <tr>\n",
       "      <th>2099757</th>\n",
       "      <td>4006.01</td>\n",
       "      <td>4006.01</td>\n",
       "      <td>4006.00</td>\n",
       "      <td>4006.01</td>\n",
       "      <td>1.192123</td>\n",
       "      <td>4775.647308</td>\n",
       "      <td>4006.003635</td>\n",
       "      <td>4006.0075</td>\n",
       "      <td>NaN</td>\n",
       "    </tr>\n",
       "    <tr>\n",
       "      <th>2099758</th>\n",
       "      <td>4006.01</td>\n",
       "      <td>4006.01</td>\n",
       "      <td>4005.50</td>\n",
       "      <td>4005.50</td>\n",
       "      <td>2.699700</td>\n",
       "      <td>10814.241898</td>\n",
       "      <td>4005.719991</td>\n",
       "      <td>4005.7550</td>\n",
       "      <td>NaN</td>\n",
       "    </tr>\n",
       "    <tr>\n",
       "      <th>2099759</th>\n",
       "      <td>4005.51</td>\n",
       "      <td>4006.01</td>\n",
       "      <td>4005.51</td>\n",
       "      <td>4005.99</td>\n",
       "      <td>1.752778</td>\n",
       "      <td>7021.183546</td>\n",
       "      <td>4005.745614</td>\n",
       "      <td>4005.7550</td>\n",
       "      <td>NaN</td>\n",
       "    </tr>\n",
       "  </tbody>\n",
       "</table>\n",
       "</div>"
      ],
      "text/plain": [
       "            Open     High      Low    Close  Volume_(BTC)  Volume_(Currency)  \\\n",
       "2099755  4006.01  4006.57  4006.00  4006.01      3.382954       13553.433078   \n",
       "2099756  4006.01  4006.57  4006.00  4006.01      0.902164        3614.083169   \n",
       "2099757  4006.01  4006.01  4006.00  4006.01      1.192123        4775.647308   \n",
       "2099758  4006.01  4006.01  4005.50  4005.50      2.699700       10814.241898   \n",
       "2099759  4005.51  4006.01  4005.51  4005.99      1.752778        7021.183546   \n",
       "\n",
       "         Weighted_Price  ohlc_average  Price_After_Month  \n",
       "2099755     4006.390309     4006.1475                NaN  \n",
       "2099756     4006.017233     4006.1475                NaN  \n",
       "2099757     4006.003635     4006.0075                NaN  \n",
       "2099758     4005.719991     4005.7550                NaN  \n",
       "2099759     4005.745614     4005.7550                NaN  "
      ]
     },
     "execution_count": 388,
     "metadata": {},
     "output_type": "execute_result"
    }
   ],
   "source": [
    "newdf2.tail()"
   ]
  },
  {
   "cell_type": "code",
   "execution_count": 389,
   "metadata": {},
   "outputs": [
    {
     "name": "stderr",
     "output_type": "stream",
     "text": [
      "C:\\Users\\Nilkanth kulkarni\\Anaconda3\\lib\\site-packages\\pandas\\core\\frame.py:3940: SettingWithCopyWarning: \n",
      "A value is trying to be set on a copy of a slice from a DataFrame\n",
      "\n",
      "See the caveats in the documentation: http://pandas.pydata.org/pandas-docs/stable/indexing.html#indexing-view-versus-copy\n",
      "  errors=errors)\n"
     ]
    }
   ],
   "source": [
    "newdf2.drop(['Volume_(BTC)','Volume_(Currency)','Weighted_Price'],axis=1,inplace=True)"
   ]
  },
  {
   "cell_type": "code",
   "execution_count": 390,
   "metadata": {},
   "outputs": [
    {
     "data": {
      "text/html": [
       "<div>\n",
       "<style scoped>\n",
       "    .dataframe tbody tr th:only-of-type {\n",
       "        vertical-align: middle;\n",
       "    }\n",
       "\n",
       "    .dataframe tbody tr th {\n",
       "        vertical-align: top;\n",
       "    }\n",
       "\n",
       "    .dataframe thead th {\n",
       "        text-align: right;\n",
       "    }\n",
       "</style>\n",
       "<table border=\"1\" class=\"dataframe\">\n",
       "  <thead>\n",
       "    <tr style=\"text-align: right;\">\n",
       "      <th></th>\n",
       "      <th>Open</th>\n",
       "      <th>High</th>\n",
       "      <th>Low</th>\n",
       "      <th>Close</th>\n",
       "      <th>ohlc_average</th>\n",
       "      <th>Price_After_Month</th>\n",
       "    </tr>\n",
       "  </thead>\n",
       "  <tbody>\n",
       "    <tr>\n",
       "      <th>0</th>\n",
       "      <td>300.0</td>\n",
       "      <td>300.0</td>\n",
       "      <td>300.0</td>\n",
       "      <td>300.0</td>\n",
       "      <td>300.0</td>\n",
       "      <td>344.67</td>\n",
       "    </tr>\n",
       "    <tr>\n",
       "      <th>7</th>\n",
       "      <td>300.0</td>\n",
       "      <td>300.0</td>\n",
       "      <td>300.0</td>\n",
       "      <td>300.0</td>\n",
       "      <td>300.0</td>\n",
       "      <td>305.38</td>\n",
       "    </tr>\n",
       "    <tr>\n",
       "      <th>51</th>\n",
       "      <td>370.0</td>\n",
       "      <td>370.0</td>\n",
       "      <td>370.0</td>\n",
       "      <td>370.0</td>\n",
       "      <td>370.0</td>\n",
       "      <td>270.35</td>\n",
       "    </tr>\n",
       "    <tr>\n",
       "      <th>77</th>\n",
       "      <td>370.0</td>\n",
       "      <td>370.0</td>\n",
       "      <td>370.0</td>\n",
       "      <td>370.0</td>\n",
       "      <td>370.0</td>\n",
       "      <td>345.44</td>\n",
       "    </tr>\n",
       "    <tr>\n",
       "      <th>1436</th>\n",
       "      <td>377.0</td>\n",
       "      <td>377.0</td>\n",
       "      <td>377.0</td>\n",
       "      <td>377.0</td>\n",
       "      <td>377.0</td>\n",
       "      <td>295.38</td>\n",
       "    </tr>\n",
       "  </tbody>\n",
       "</table>\n",
       "</div>"
      ],
      "text/plain": [
       "       Open   High    Low  Close  ohlc_average  Price_After_Month\n",
       "0     300.0  300.0  300.0  300.0         300.0             344.67\n",
       "7     300.0  300.0  300.0  300.0         300.0             305.38\n",
       "51    370.0  370.0  370.0  370.0         370.0             270.35\n",
       "77    370.0  370.0  370.0  370.0         370.0             345.44\n",
       "1436  377.0  377.0  377.0  377.0         377.0             295.38"
      ]
     },
     "execution_count": 390,
     "metadata": {},
     "output_type": "execute_result"
    }
   ],
   "source": [
    "newdf2.head()"
   ]
  },
  {
   "cell_type": "code",
   "execution_count": 391,
   "metadata": {},
   "outputs": [
    {
     "data": {
      "text/html": [
       "<div>\n",
       "<style scoped>\n",
       "    .dataframe tbody tr th:only-of-type {\n",
       "        vertical-align: middle;\n",
       "    }\n",
       "\n",
       "    .dataframe tbody tr th {\n",
       "        vertical-align: top;\n",
       "    }\n",
       "\n",
       "    .dataframe thead th {\n",
       "        text-align: right;\n",
       "    }\n",
       "</style>\n",
       "<table border=\"1\" class=\"dataframe\">\n",
       "  <thead>\n",
       "    <tr style=\"text-align: right;\">\n",
       "      <th></th>\n",
       "      <th>Open</th>\n",
       "      <th>High</th>\n",
       "      <th>Low</th>\n",
       "      <th>Close</th>\n",
       "      <th>ohlc_average</th>\n",
       "      <th>Price_After_Month</th>\n",
       "    </tr>\n",
       "  </thead>\n",
       "  <tbody>\n",
       "    <tr>\n",
       "      <th>2099755</th>\n",
       "      <td>4006.01</td>\n",
       "      <td>4006.57</td>\n",
       "      <td>4006.00</td>\n",
       "      <td>4006.01</td>\n",
       "      <td>4006.1475</td>\n",
       "      <td>NaN</td>\n",
       "    </tr>\n",
       "    <tr>\n",
       "      <th>2099756</th>\n",
       "      <td>4006.01</td>\n",
       "      <td>4006.57</td>\n",
       "      <td>4006.00</td>\n",
       "      <td>4006.01</td>\n",
       "      <td>4006.1475</td>\n",
       "      <td>NaN</td>\n",
       "    </tr>\n",
       "    <tr>\n",
       "      <th>2099757</th>\n",
       "      <td>4006.01</td>\n",
       "      <td>4006.01</td>\n",
       "      <td>4006.00</td>\n",
       "      <td>4006.01</td>\n",
       "      <td>4006.0075</td>\n",
       "      <td>NaN</td>\n",
       "    </tr>\n",
       "    <tr>\n",
       "      <th>2099758</th>\n",
       "      <td>4006.01</td>\n",
       "      <td>4006.01</td>\n",
       "      <td>4005.50</td>\n",
       "      <td>4005.50</td>\n",
       "      <td>4005.7550</td>\n",
       "      <td>NaN</td>\n",
       "    </tr>\n",
       "    <tr>\n",
       "      <th>2099759</th>\n",
       "      <td>4005.51</td>\n",
       "      <td>4006.01</td>\n",
       "      <td>4005.51</td>\n",
       "      <td>4005.99</td>\n",
       "      <td>4005.7550</td>\n",
       "      <td>NaN</td>\n",
       "    </tr>\n",
       "  </tbody>\n",
       "</table>\n",
       "</div>"
      ],
      "text/plain": [
       "            Open     High      Low    Close  ohlc_average  Price_After_Month\n",
       "2099755  4006.01  4006.57  4006.00  4006.01     4006.1475                NaN\n",
       "2099756  4006.01  4006.57  4006.00  4006.01     4006.1475                NaN\n",
       "2099757  4006.01  4006.01  4006.00  4006.01     4006.0075                NaN\n",
       "2099758  4006.01  4006.01  4005.50  4005.50     4005.7550                NaN\n",
       "2099759  4005.51  4006.01  4005.51  4005.99     4005.7550                NaN"
      ]
     },
     "execution_count": 391,
     "metadata": {},
     "output_type": "execute_result"
    }
   ],
   "source": [
    "newdf2.tail()"
   ]
  },
  {
   "cell_type": "markdown",
   "metadata": {},
   "source": [
    " <h2>Now we will start with Preprocessing of Data</h2>"
   ]
  },
  {
   "cell_type": "code",
   "execution_count": null,
   "metadata": {},
   "outputs": [],
   "source": []
  },
  {
   "cell_type": "code",
   "execution_count": 115,
   "metadata": {},
   "outputs": [
    {
     "name": "stderr",
     "output_type": "stream",
     "text": [
      "C:\\Users\\Nilkanth kulkarni\\Anaconda3\\lib\\site-packages\\ipykernel_launcher.py:1: SettingWithCopyWarning: \n",
      "A value is trying to be set on a copy of a slice from a DataFrame\n",
      "\n",
      "See the caveats in the documentation: http://pandas.pydata.org/pandas-docs/stable/indexing.html#indexing-view-versus-copy\n",
      "  \"\"\"Entry point for launching an IPython kernel.\n"
     ]
    }
   ],
   "source": [
    "newdf1.dropna(inplace=True)\n",
    "X1=newdf1.drop('Price_After_Month',axis=1)\n"
   ]
  },
  {
   "cell_type": "code",
   "execution_count": 116,
   "metadata": {},
   "outputs": [],
   "source": [
    "X1=X1.iloc[:500000,:]"
   ]
  },
  {
   "cell_type": "code",
   "execution_count": 117,
   "metadata": {},
   "outputs": [
    {
     "data": {
      "text/plain": [
       "(500000, 5)"
      ]
     },
     "execution_count": 117,
     "metadata": {},
     "output_type": "execute_result"
    }
   ],
   "source": [
    "X1.shape"
   ]
  },
  {
   "cell_type": "code",
   "execution_count": 118,
   "metadata": {},
   "outputs": [],
   "source": [
    "X1=preprocessing.scale(X1)#We need to scale our values to input them in our model\n",
    "y1=newdf1['Price_After_Month']\n",
    "y1=y1.iloc[:500000]"
   ]
  },
  {
   "cell_type": "code",
   "execution_count": 119,
   "metadata": {},
   "outputs": [
    {
     "data": {
      "text/plain": [
       "(500000,)"
      ]
     },
     "execution_count": 119,
     "metadata": {},
     "output_type": "execute_result"
    }
   ],
   "source": [
    "y1.shape"
   ]
  },
  {
   "cell_type": "code",
   "execution_count": 120,
   "metadata": {},
   "outputs": [
    {
     "name": "stderr",
     "output_type": "stream",
     "text": [
      "C:\\Users\\Nilkanth kulkarni\\Anaconda3\\lib\\site-packages\\ipykernel_launcher.py:1: SettingWithCopyWarning: \n",
      "A value is trying to be set on a copy of a slice from a DataFrame\n",
      "\n",
      "See the caveats in the documentation: http://pandas.pydata.org/pandas-docs/stable/indexing.html#indexing-view-versus-copy\n",
      "  \"\"\"Entry point for launching an IPython kernel.\n"
     ]
    }
   ],
   "source": [
    "newdf2.dropna(inplace=True)\n",
    "X2=newdf2.drop('Price_After_Month',axis=1)\n",
    "X2=X2.iloc[:500000,:]\n",
    "X2=preprocessing.scale(X2)#We need to scale our values to input them in our model\n",
    "y2=newdf2['Price_After_Month']\n",
    "y2=y2.iloc[:500000]"
   ]
  },
  {
   "cell_type": "markdown",
   "metadata": {},
   "source": [
    "<h3>Now we will use train_test_split fuction to split our data into training set and testing set.</h3>"
   ]
  },
  {
   "cell_type": "code",
   "execution_count": 121,
   "metadata": {},
   "outputs": [],
   "source": [
    "X_train1,X_test1,y_train1,y_test1=train_test_split(X1,y1,test_size=0.3,random_state=101)"
   ]
  },
  {
   "cell_type": "code",
   "execution_count": 122,
   "metadata": {},
   "outputs": [],
   "source": [
    "X_train2,X_test2,y_train2,y_test2=train_test_split(X2,y2,test_size=0.3,random_state=101)"
   ]
  },
  {
   "cell_type": "code",
   "execution_count": 125,
   "metadata": {},
   "outputs": [
    {
     "name": "stdout",
     "output_type": "stream",
     "text": [
      "Accuracy is: 99.9981 %\n"
     ]
    }
   ],
   "source": [
    "reg = tree.DecisionTreeRegressor()\n",
    "reg.fit(X_test1,y_test1)\n",
    "accuracy=reg.score(X_test1,y_test1)\n",
    "accuracy=accuracy*100\n",
    "accuracy = float(\"{0:.4f}\".format(accuracy))\n",
    "print('Accuracy is:',accuracy,'%')#This percentage shows how much our regression fits our data'"
   ]
  },
  {
   "cell_type": "code",
   "execution_count": 113,
   "metadata": {},
   "outputs": [
    {
     "ename": "AttributeError",
     "evalue": "'numpy.ndarray' object has no attribute 'iloc'",
     "output_type": "error",
     "traceback": [
      "\u001b[1;31m---------------------------------------------------------------------------\u001b[0m",
      "\u001b[1;31mAttributeError\u001b[0m                            Traceback (most recent call last)",
      "\u001b[1;32m<ipython-input-113-b55e851d6446>\u001b[0m in \u001b[0;36m<module>\u001b[1;34m\u001b[0m\n\u001b[1;32m----> 1\u001b[1;33m \u001b[0mX_train1\u001b[0m\u001b[1;33m=\u001b[0m\u001b[0mX_train1\u001b[0m\u001b[1;33m.\u001b[0m\u001b[0miloc\u001b[0m\u001b[1;33m[\u001b[0m\u001b[1;33m:\u001b[0m\u001b[1;36m100000\u001b[0m\u001b[1;33m,\u001b[0m\u001b[1;33m:\u001b[0m\u001b[1;33m]\u001b[0m\u001b[1;33m\u001b[0m\u001b[1;33m\u001b[0m\u001b[0m\n\u001b[0m",
      "\u001b[1;31mAttributeError\u001b[0m: 'numpy.ndarray' object has no attribute 'iloc'"
     ]
    }
   ],
   "source": [
    "X_train1=X_train1.iloc[:100000,:]"
   ]
  },
  {
   "cell_type": "code",
   "execution_count": 128,
   "metadata": {},
   "outputs": [
    {
     "name": "stdout",
     "output_type": "stream",
     "text": [
      "Accuracy is: 99.9563 %\n"
     ]
    }
   ],
   "source": [
    "reg1=RandomForestRegressor(n_estimators=100,random_state=101)\n",
    "reg1.fit(X_train1,y_train1)\n",
    "accuracy1=reg1.score(X_test1,y_test1)\n",
    "accuracy1=accuracy1*100\n",
    "accuracy1 = float(\"{0:.4f}\".format(accuracy1))\n",
    "print('Accuracy is:',accuracy1,'%')#This percentage shows how much our regression fits our data"
   ]
  },
  {
   "cell_type": "code",
   "execution_count": 129,
   "metadata": {},
   "outputs": [
    {
     "name": "stdout",
     "output_type": "stream",
     "text": [
      "The prediction is: 138.97069999999982 But the real value is: 141.61\n"
     ]
    }
   ],
   "source": [
    "preds = reg1.predict(X_test1)\n",
    "print(\"The prediction is:\",preds[2],\"But the real value is:\" ,y_test1.iloc[2])\n"
   ]
  },
  {
   "cell_type": "code",
   "execution_count": 57,
   "metadata": {},
   "outputs": [],
   "source": []
  },
  {
   "cell_type": "code",
   "execution_count": 112,
   "metadata": {},
   "outputs": [
    {
     "name": "stdout",
     "output_type": "stream",
     "text": [
      "Accuracy is: 99.8853 %\n"
     ]
    }
   ],
   "source": [
    "reg2=RandomForestRegressor(n_estimators=100,random_state=101)\n",
    "reg2.fit(X_train2,y_train2)\n",
    "accuracy2=reg2.score(X_test2,y_test2)\n",
    "accuracy2=accuracy2*100\n",
    "accuracy2 = float(\"{0:.4f}\".format(accuracy2))\n",
    "print('Accuracy is:',accuracy2,'%')#This percentage shows how much our regression fits our data"
   ]
  },
  {
   "cell_type": "code",
   "execution_count": 130,
   "metadata": {},
   "outputs": [
    {
     "name": "stdout",
     "output_type": "stream",
     "text": [
      "The prediction is: 252.61365809523812 But the real value is: 252.31\n"
     ]
    }
   ],
   "source": [
    "preds2 = reg2.predict(X_test2)\n",
    "print(\"The prediction is:\",preds2[2],\"But the real value is:\" ,y_test2.iloc[2])\n"
   ]
  },
  {
   "cell_type": "code",
   "execution_count": 132,
   "metadata": {},
   "outputs": [
    {
     "name": "stdout",
     "output_type": "stream",
     "text": [
      "The prediction is: 225.22643527777757 But the real value is: 225.31\n"
     ]
    }
   ],
   "source": [
    "print(\"The prediction is:\",preds2[11],\"But the real value is:\" ,y_test2.iloc[11])"
   ]
  },
  {
   "cell_type": "markdown",
   "metadata": {},
   "source": [
    "<h3>We'll take the last 30 elements to make our predictions on them</h3>"
   ]
  },
  {
   "cell_type": "code",
   "execution_count": 88,
   "metadata": {},
   "outputs": [],
   "source": [
    "X_30=X1[-30:]\n",
    "forecast=reg1.predict(X_30)"
   ]
  },
  {
   "cell_type": "code",
   "execution_count": 342,
   "metadata": {},
   "outputs": [],
   "source": [
    "X2_30=X2[-30:]\n",
    "forecast2=reg2.predict(X2_30)"
   ]
  },
  {
   "cell_type": "markdown",
   "metadata": {},
   "source": [
    "<h4>we will get the index position from our original datasets</h4>"
   ]
  },
  {
   "cell_type": "code",
   "execution_count": 271,
   "metadata": {},
   "outputs": [
    {
     "data": {
      "text/plain": [
       "3997696"
      ]
     },
     "execution_count": 271,
     "metadata": {},
     "output_type": "execute_result"
    }
   ],
   "source": [
    "last_date=newdf1.iloc[-1].name\n",
    "last_date"
   ]
  },
  {
   "cell_type": "code",
   "execution_count": 280,
   "metadata": {},
   "outputs": [],
   "source": [
    "indexeslst=list()\n",
    "for i in range(3997696,3997726):\n",
    "    indexeslst.append(i+1)"
   ]
  },
  {
   "cell_type": "code",
   "execution_count": 393,
   "metadata": {},
   "outputs": [],
   "source": [
    "ssd=pd.DataFrame(forecast,columns=['forecast'],index=indexeslst)"
   ]
  },
  {
   "cell_type": "code",
   "execution_count": 394,
   "metadata": {},
   "outputs": [],
   "source": [
    "newdf1=newdf1.append(ssd,sort=False)"
   ]
  },
  {
   "cell_type": "markdown",
   "metadata": {},
   "source": [
    "<h2>Final Visualizations for bitstampUSD_1-min_data 30 days prize predictions </h2>"
   ]
  },
  {
   "cell_type": "code",
   "execution_count": 397,
   "metadata": {},
   "outputs": [
    {
     "data": {
      "text/plain": [
       "<matplotlib.legend.Legend at 0x20621364390>"
      ]
     },
     "execution_count": 397,
     "metadata": {},
     "output_type": "execute_result"
    },
    {
     "data": {
      "image/png": "[encoded data removed]",
      "text/plain": [
       "<Figure size 864x432 with 1 Axes>"
      ]
     },
     "metadata": {},
     "output_type": "display_data"
    }
   ],
   "source": [
    "newdf1['forecast'].tail(31).plot(figsize=(12,6),label='forecast')\n",
    "plt.legend()"
   ]
  },
  {
   "cell_type": "markdown",
   "metadata": {},
   "source": [
    "<h4>For 2nd Dataset</h4>"
   ]
  },
  {
   "cell_type": "code",
   "execution_count": 346,
   "metadata": {},
   "outputs": [
    {
     "data": {
      "text/plain": [
       "2099759"
      ]
     },
     "execution_count": 346,
     "metadata": {},
     "output_type": "execute_result"
    }
   ],
   "source": [
    "last_date2=newdf2.iloc[-1].name\n",
    "last_date2"
   ]
  },
  {
   "cell_type": "code",
   "execution_count": 360,
   "metadata": {},
   "outputs": [],
   "source": [
    "indexeslst2=list()\n",
    "for i in range(2099759,2099789):\n",
    "    indexeslst2.append(i+1)"
   ]
  },
  {
   "cell_type": "code",
   "execution_count": 361,
   "metadata": {},
   "outputs": [
    {
     "name": "stdout",
     "output_type": "stream",
     "text": [
      "[2099760, 2099761, 2099762, 2099763, 2099764, 2099765, 2099766, 2099767, 2099768, 2099769, 2099770, 2099771, 2099772, 2099773, 2099774, 2099775, 2099776, 2099777, 2099778, 2099779, 2099780, 2099781, 2099782, 2099783, 2099784, 2099785, 2099786, 2099787, 2099788, 2099789]\n"
     ]
    }
   ],
   "source": [
    "print(indexeslst2)"
   ]
  },
  {
   "cell_type": "code",
   "execution_count": 362,
   "metadata": {},
   "outputs": [],
   "source": [
    "newdf4=newdf2.copy()"
   ]
  },
  {
   "cell_type": "code",
   "execution_count": 363,
   "metadata": {},
   "outputs": [],
   "source": [
    "ssd2=pd.DataFrame(forecast2,columns=['forecast'],index=indexeslst2)"
   ]
  },
  {
   "cell_type": "code",
   "execution_count": 366,
   "metadata": {},
   "outputs": [],
   "source": [
    "newdf4=newdf4.append(ssd2,sort=False)"
   ]
  },
  {
   "cell_type": "code",
   "execution_count": 367,
   "metadata": {},
   "outputs": [
    {
     "data": {
      "text/html": [
       "<div>\n",
       "<style scoped>\n",
       "    .dataframe tbody tr th:only-of-type {\n",
       "        vertical-align: middle;\n",
       "    }\n",
       "\n",
       "    .dataframe tbody tr th {\n",
       "        vertical-align: top;\n",
       "    }\n",
       "\n",
       "    .dataframe thead th {\n",
       "        text-align: right;\n",
       "    }\n",
       "</style>\n",
       "<table border=\"1\" class=\"dataframe\">\n",
       "  <thead>\n",
       "    <tr style=\"text-align: right;\">\n",
       "      <th></th>\n",
       "      <th>Open</th>\n",
       "      <th>High</th>\n",
       "      <th>Low</th>\n",
       "      <th>Close</th>\n",
       "      <th>ohlc_average</th>\n",
       "      <th>Price_After_Month</th>\n",
       "      <th>forecast</th>\n",
       "    </tr>\n",
       "  </thead>\n",
       "  <tbody>\n",
       "    <tr>\n",
       "      <th>2099785</th>\n",
       "      <td>NaN</td>\n",
       "      <td>NaN</td>\n",
       "      <td>NaN</td>\n",
       "      <td>NaN</td>\n",
       "      <td>NaN</td>\n",
       "      <td>NaN</td>\n",
       "      <td>405.161455</td>\n",
       "    </tr>\n",
       "    <tr>\n",
       "      <th>2099786</th>\n",
       "      <td>NaN</td>\n",
       "      <td>NaN</td>\n",
       "      <td>NaN</td>\n",
       "      <td>NaN</td>\n",
       "      <td>NaN</td>\n",
       "      <td>NaN</td>\n",
       "      <td>401.067358</td>\n",
       "    </tr>\n",
       "    <tr>\n",
       "      <th>2099787</th>\n",
       "      <td>NaN</td>\n",
       "      <td>NaN</td>\n",
       "      <td>NaN</td>\n",
       "      <td>NaN</td>\n",
       "      <td>NaN</td>\n",
       "      <td>NaN</td>\n",
       "      <td>406.766480</td>\n",
       "    </tr>\n",
       "    <tr>\n",
       "      <th>2099788</th>\n",
       "      <td>NaN</td>\n",
       "      <td>NaN</td>\n",
       "      <td>NaN</td>\n",
       "      <td>NaN</td>\n",
       "      <td>NaN</td>\n",
       "      <td>NaN</td>\n",
       "      <td>407.802600</td>\n",
       "    </tr>\n",
       "    <tr>\n",
       "      <th>2099789</th>\n",
       "      <td>NaN</td>\n",
       "      <td>NaN</td>\n",
       "      <td>NaN</td>\n",
       "      <td>NaN</td>\n",
       "      <td>NaN</td>\n",
       "      <td>NaN</td>\n",
       "      <td>407.014000</td>\n",
       "    </tr>\n",
       "  </tbody>\n",
       "</table>\n",
       "</div>"
      ],
      "text/plain": [
       "         Open  High  Low  Close  ohlc_average  Price_After_Month    forecast\n",
       "2099785   NaN   NaN  NaN    NaN           NaN                NaN  405.161455\n",
       "2099786   NaN   NaN  NaN    NaN           NaN                NaN  401.067358\n",
       "2099787   NaN   NaN  NaN    NaN           NaN                NaN  406.766480\n",
       "2099788   NaN   NaN  NaN    NaN           NaN                NaN  407.802600\n",
       "2099789   NaN   NaN  NaN    NaN           NaN                NaN  407.014000"
      ]
     },
     "execution_count": 367,
     "metadata": {},
     "output_type": "execute_result"
    }
   ],
   "source": [
    "newdf4.tail()"
   ]
  },
  {
   "cell_type": "markdown",
   "metadata": {},
   "source": [
    "<h2>Final Visualizations for coinbaseUSD_1-min_data 30 days prize predictions </h2>"
   ]
  },
  {
   "cell_type": "code",
   "execution_count": 399,
   "metadata": {},
   "outputs": [
    {
     "data": {
      "text/plain": [
       "<matplotlib.legend.Legend at 0x20629401780>"
      ]
     },
     "execution_count": 399,
     "metadata": {},
     "output_type": "execute_result"
    },
    {
     "data": {
      "image/png": "[encoded data removed]",
      "text/plain": [
       "<Figure size 864x432 with 1 Axes>"
      ]
     },
     "metadata": {},
     "output_type": "display_data"
    }
   ],
   "source": [
    "newdf4['forecast'].tail(30).plot(figsize=(12,6),label='forecast')\n",
    "plt.legend()"
   ]
  },
  {
   "cell_type": "markdown",
   "metadata": {},
   "source": [
    "<h1>Thank You....!</h1>"
   ]
  },
  {
   "cell_type": "code",
   "execution_count": null,
   "metadata": {},
   "outputs": [],
   "source": []
  }
 ],
 "metadata": {
  "kernelspec": {
   "display_name": "Python 3",
   "language": "python",
   "name": "python3"
  },
  "language_info": {
   "codemirror_mode": {
    "name": "ipython",
    "version": 3
   },
   "file_extension": ".py",
   "mimetype": "text/x-python",
   "name": "python",
   "nbconvert_exporter": "python",
   "pygments_lexer": "ipython3",
   "version": "3.7.3"
  }
 },
 "nbformat": 4,
 "nbformat_minor": 2
}
